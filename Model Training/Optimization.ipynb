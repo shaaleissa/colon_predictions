{
 "cells": [
  {
   "cell_type": "code",
<<<<<<< HEAD
   "execution_count": 1,
=======
   "execution_count": 4,
>>>>>>> 84fe72c2a30aa02ce27d14e0662ccf20bb1f28a4
   "metadata": {},
   "outputs": [],
   "source": [
    "from sklearn.ensemble import AdaBoostClassifier\n",
    "from sklearn.ensemble import ExtraTreesClassifier\n",
    "from sklearn.ensemble import HistGradientBoostingClassifier\n",
    "from sklearn.ensemble import RandomForestClassifier\n",
    "from sklearn.linear_model import LogisticRegression\n",
    "from sklearn.svm import SVC\n",
    "from xgboost import XGBClassifier\n",
    "from lightgbm import LGBMClassifier\n",
    "from sklearn.model_selection import train_test_split, GridSearchCV ,KFold\n",
    "import pandas as pd\n",
    "from sklearn.metrics import ConfusionMatrixDisplay,confusion_matrix\n",
    "import matplotlib.pyplot as plt\n",
    "from imblearn.over_sampling import SMOTE\n",
    "from sklearn.metrics import classification_report\n",
    "from collections import Counter\n",
    "from imblearn.under_sampling import RandomUnderSampler\n",
    "from imblearn.combine import SMOTEENN\n",
    "import numpy as np\n",
    "from sklearn.model_selection import cross_val_score\n",
    "from sklearn.calibration import LabelEncoder\n",
    "from sklearn.metrics import accuracy_score, precision_score, recall_score, f1_score, roc_auc_score, roc_curve, auc"
   ]
  },
  {
   "cell_type": "code",
<<<<<<< HEAD
   "execution_count": 2,
=======
   "execution_count": 5,
>>>>>>> 84fe72c2a30aa02ce27d14e0662ccf20bb1f28a4
   "metadata": {},
   "outputs": [
    {
     "data": {
      "text/html": [
       "<div>\n",
       "<style scoped>\n",
       "    .dataframe tbody tr th:only-of-type {\n",
       "        vertical-align: middle;\n",
       "    }\n",
       "\n",
       "    .dataframe tbody tr th {\n",
       "        vertical-align: top;\n",
       "    }\n",
       "\n",
       "    .dataframe thead th {\n",
       "        text-align: right;\n",
       "    }\n",
       "</style>\n",
       "<table border=\"1\" class=\"dataframe\">\n",
       "  <thead>\n",
       "    <tr style=\"text-align: right;\">\n",
       "      <th></th>\n",
       "      <th>Class</th>\n",
       "      <th>Age</th>\n",
       "      <th>p16540_C/C</th>\n",
       "      <th>p16540_G/C</th>\n",
       "      <th>p16540_G/G</th>\n",
       "      <th>p16580_C/C</th>\n",
       "      <th>p16580_C/T</th>\n",
       "      <th>p16580_T/T</th>\n",
       "      <th>mdm2_G/G</th>\n",
       "      <th>mdm2_G/T</th>\n",
       "      <th>mdm2_T/T</th>\n",
       "      <th>GAL3_A/A</th>\n",
       "      <th>GAL3_C/A</th>\n",
       "      <th>GAL3_C/C</th>\n",
       "      <th>TIM1_C/C</th>\n",
       "      <th>TIM1_G/C</th>\n",
       "      <th>TIM1_G/G</th>\n",
       "    </tr>\n",
       "  </thead>\n",
       "  <tbody>\n",
       "    <tr>\n",
       "      <th>0</th>\n",
       "      <td>1</td>\n",
       "      <td>49</td>\n",
       "      <td>False</td>\n",
       "      <td>True</td>\n",
       "      <td>False</td>\n",
       "      <td>True</td>\n",
       "      <td>False</td>\n",
       "      <td>False</td>\n",
       "      <td>True</td>\n",
       "      <td>False</td>\n",
       "      <td>False</td>\n",
       "      <td>False</td>\n",
       "      <td>True</td>\n",
       "      <td>False</td>\n",
       "      <td>False</td>\n",
       "      <td>True</td>\n",
       "      <td>False</td>\n",
       "    </tr>\n",
       "    <tr>\n",
       "      <th>1</th>\n",
       "      <td>1</td>\n",
       "      <td>49</td>\n",
       "      <td>False</td>\n",
       "      <td>True</td>\n",
       "      <td>False</td>\n",
       "      <td>True</td>\n",
       "      <td>False</td>\n",
       "      <td>False</td>\n",
       "      <td>True</td>\n",
       "      <td>False</td>\n",
       "      <td>False</td>\n",
       "      <td>True</td>\n",
       "      <td>False</td>\n",
       "      <td>False</td>\n",
       "      <td>False</td>\n",
       "      <td>True</td>\n",
       "      <td>False</td>\n",
       "    </tr>\n",
       "    <tr>\n",
       "      <th>2</th>\n",
       "      <td>1</td>\n",
       "      <td>49</td>\n",
       "      <td>False</td>\n",
       "      <td>True</td>\n",
       "      <td>False</td>\n",
       "      <td>True</td>\n",
       "      <td>False</td>\n",
       "      <td>False</td>\n",
       "      <td>False</td>\n",
       "      <td>True</td>\n",
       "      <td>False</td>\n",
       "      <td>False</td>\n",
       "      <td>True</td>\n",
       "      <td>False</td>\n",
       "      <td>True</td>\n",
       "      <td>False</td>\n",
       "      <td>False</td>\n",
       "    </tr>\n",
       "    <tr>\n",
       "      <th>3</th>\n",
       "      <td>1</td>\n",
       "      <td>36</td>\n",
       "      <td>False</td>\n",
       "      <td>True</td>\n",
       "      <td>False</td>\n",
       "      <td>True</td>\n",
       "      <td>False</td>\n",
       "      <td>False</td>\n",
       "      <td>False</td>\n",
       "      <td>False</td>\n",
       "      <td>True</td>\n",
       "      <td>False</td>\n",
       "      <td>True</td>\n",
       "      <td>False</td>\n",
       "      <td>True</td>\n",
       "      <td>False</td>\n",
       "      <td>False</td>\n",
       "    </tr>\n",
       "    <tr>\n",
       "      <th>4</th>\n",
       "      <td>1</td>\n",
       "      <td>49</td>\n",
       "      <td>True</td>\n",
       "      <td>False</td>\n",
       "      <td>False</td>\n",
       "      <td>False</td>\n",
       "      <td>True</td>\n",
       "      <td>False</td>\n",
       "      <td>False</td>\n",
       "      <td>False</td>\n",
       "      <td>True</td>\n",
       "      <td>False</td>\n",
       "      <td>False</td>\n",
       "      <td>True</td>\n",
       "      <td>False</td>\n",
       "      <td>True</td>\n",
       "      <td>False</td>\n",
       "    </tr>\n",
       "    <tr>\n",
       "      <th>...</th>\n",
       "      <td>...</td>\n",
       "      <td>...</td>\n",
       "      <td>...</td>\n",
       "      <td>...</td>\n",
       "      <td>...</td>\n",
       "      <td>...</td>\n",
       "      <td>...</td>\n",
       "      <td>...</td>\n",
       "      <td>...</td>\n",
       "      <td>...</td>\n",
       "      <td>...</td>\n",
       "      <td>...</td>\n",
       "      <td>...</td>\n",
       "      <td>...</td>\n",
       "      <td>...</td>\n",
       "      <td>...</td>\n",
       "      <td>...</td>\n",
       "    </tr>\n",
       "    <tr>\n",
       "      <th>110</th>\n",
       "      <td>0</td>\n",
       "      <td>81</td>\n",
       "      <td>False</td>\n",
       "      <td>True</td>\n",
       "      <td>False</td>\n",
       "      <td>True</td>\n",
       "      <td>False</td>\n",
       "      <td>False</td>\n",
       "      <td>False</td>\n",
       "      <td>False</td>\n",
       "      <td>True</td>\n",
       "      <td>False</td>\n",
       "      <td>False</td>\n",
       "      <td>True</td>\n",
       "      <td>False</td>\n",
       "      <td>False</td>\n",
       "      <td>True</td>\n",
       "    </tr>\n",
       "    <tr>\n",
       "      <th>111</th>\n",
       "      <td>0</td>\n",
       "      <td>73</td>\n",
       "      <td>True</td>\n",
       "      <td>False</td>\n",
       "      <td>False</td>\n",
       "      <td>True</td>\n",
       "      <td>False</td>\n",
       "      <td>False</td>\n",
       "      <td>False</td>\n",
       "      <td>False</td>\n",
       "      <td>True</td>\n",
       "      <td>False</td>\n",
       "      <td>False</td>\n",
       "      <td>True</td>\n",
       "      <td>False</td>\n",
       "      <td>False</td>\n",
       "      <td>True</td>\n",
       "    </tr>\n",
       "    <tr>\n",
       "      <th>112</th>\n",
       "      <td>0</td>\n",
       "      <td>56</td>\n",
       "      <td>True</td>\n",
       "      <td>False</td>\n",
       "      <td>False</td>\n",
       "      <td>True</td>\n",
       "      <td>False</td>\n",
       "      <td>False</td>\n",
       "      <td>False</td>\n",
       "      <td>True</td>\n",
       "      <td>False</td>\n",
       "      <td>False</td>\n",
       "      <td>False</td>\n",
       "      <td>True</td>\n",
       "      <td>False</td>\n",
       "      <td>True</td>\n",
       "      <td>False</td>\n",
       "    </tr>\n",
       "    <tr>\n",
       "      <th>113</th>\n",
       "      <td>0</td>\n",
       "      <td>74</td>\n",
       "      <td>False</td>\n",
       "      <td>True</td>\n",
       "      <td>False</td>\n",
       "      <td>False</td>\n",
       "      <td>True</td>\n",
       "      <td>False</td>\n",
       "      <td>True</td>\n",
       "      <td>False</td>\n",
       "      <td>False</td>\n",
       "      <td>False</td>\n",
       "      <td>False</td>\n",
       "      <td>True</td>\n",
       "      <td>False</td>\n",
       "      <td>False</td>\n",
       "      <td>True</td>\n",
       "    </tr>\n",
       "    <tr>\n",
       "      <th>114</th>\n",
       "      <td>0</td>\n",
       "      <td>37</td>\n",
       "      <td>False</td>\n",
       "      <td>True</td>\n",
       "      <td>False</td>\n",
       "      <td>False</td>\n",
       "      <td>True</td>\n",
       "      <td>False</td>\n",
       "      <td>False</td>\n",
       "      <td>False</td>\n",
       "      <td>True</td>\n",
       "      <td>False</td>\n",
       "      <td>False</td>\n",
       "      <td>True</td>\n",
       "      <td>False</td>\n",
       "      <td>True</td>\n",
       "      <td>False</td>\n",
       "    </tr>\n",
       "  </tbody>\n",
       "</table>\n",
       "<p>115 rows × 17 columns</p>\n",
       "</div>"
      ],
      "text/plain": [
       "     Class  Age  p16540_C/C  p16540_G/C  p16540_G/G  p16580_C/C  p16580_C/T  \\\n",
       "0        1   49       False        True       False        True       False   \n",
       "1        1   49       False        True       False        True       False   \n",
       "2        1   49       False        True       False        True       False   \n",
       "3        1   36       False        True       False        True       False   \n",
       "4        1   49        True       False       False       False        True   \n",
       "..     ...  ...         ...         ...         ...         ...         ...   \n",
       "110      0   81       False        True       False        True       False   \n",
       "111      0   73        True       False       False        True       False   \n",
       "112      0   56        True       False       False        True       False   \n",
       "113      0   74       False        True       False       False        True   \n",
       "114      0   37       False        True       False       False        True   \n",
       "\n",
       "     p16580_T/T  mdm2_G/G  mdm2_G/T  mdm2_T/T  GAL3_A/A  GAL3_C/A  GAL3_C/C  \\\n",
       "0         False      True     False     False     False      True     False   \n",
       "1         False      True     False     False      True     False     False   \n",
       "2         False     False      True     False     False      True     False   \n",
       "3         False     False     False      True     False      True     False   \n",
       "4         False     False     False      True     False     False      True   \n",
       "..          ...       ...       ...       ...       ...       ...       ...   \n",
       "110       False     False     False      True     False     False      True   \n",
       "111       False     False     False      True     False     False      True   \n",
       "112       False     False      True     False     False     False      True   \n",
       "113       False      True     False     False     False     False      True   \n",
       "114       False     False     False      True     False     False      True   \n",
       "\n",
       "     TIM1_C/C  TIM1_G/C  TIM1_G/G  \n",
       "0       False      True     False  \n",
       "1       False      True     False  \n",
       "2        True     False     False  \n",
       "3        True     False     False  \n",
       "4       False      True     False  \n",
       "..        ...       ...       ...  \n",
       "110     False     False      True  \n",
       "111     False     False      True  \n",
       "112     False      True     False  \n",
       "113     False     False      True  \n",
       "114     False      True     False  \n",
       "\n",
       "[115 rows x 17 columns]"
      ]
     },
<<<<<<< HEAD
     "execution_count": 2,
=======
     "execution_count": 5,
>>>>>>> 84fe72c2a30aa02ce27d14e0662ccf20bb1f28a4
     "metadata": {},
     "output_type": "execute_result"
    }
   ],
   "source": [
    "# df = pd.read_csv('/Users/hneen./iCloud Drive (Archive)/Desktop/L9/Graduation project/colon_predicitions/Data/colon-dataset-processed.csv')\n",
    "df = pd.read_csv('../Data/colon-dataset-processed.csv')\n",
    "le = LabelEncoder()\n",
    "df['Class'] = le.fit_transform(df['Class'])\n",
    "df"
   ]
  },
  {
   "cell_type": "code",
<<<<<<< HEAD
   "execution_count": 3,
=======
   "execution_count": 6,
>>>>>>> 84fe72c2a30aa02ce27d14e0662ccf20bb1f28a4
   "metadata": {},
   "outputs": [],
   "source": [
    "X=df.drop('Class',axis=1)\n",
    "y=df['Class']"
   ]
  },
  {
   "cell_type": "code",
   "execution_count": 4,
   "metadata": {},
   "outputs": [],
   "source": [
    "\n",
    "#split data into training and testing\n",
    "X_train, X_test, y_train, y_test = train_test_split(X, y, test_size=0.2, random_state=123)\n",
    "random_state=123"
   ]
  },
  {
   "cell_type": "code",
<<<<<<< HEAD
   "execution_count": 5,
=======
   "execution_count": 9,
>>>>>>> 84fe72c2a30aa02ce27d14e0662ccf20bb1f28a4
   "metadata": {},
   "outputs": [],
   "source": [
    "#overampling\n",
    "sm = SMOTE(random_state=random_state)\n",
    "X_oversampled, y_oversampled = sm.fit_resample(X, y)\n",
    "\n",
    "X_train_oversampled, X_test_oversampled, y_train_oversampled, y_test_oversampled = train_test_split(X_oversampled, y_oversampled, test_size=0.2, random_state=42)\n"
   ]
  },
  {
   "cell_type": "code",
<<<<<<< HEAD
   "execution_count": 6,
=======
   "execution_count": 11,
>>>>>>> 84fe72c2a30aa02ce27d14e0662ccf20bb1f28a4
   "metadata": {},
   "outputs": [],
   "source": [
    "#underampling\n",
    "# rus = RandomUnderSampler(random_state=random_state)\n",
    "rus = SMOTEENN(random_state=random_state, sampling_strategy='all')\n",
    "X_undersampled, y_undersampled = rus.fit_resample(X, y)\n",
    "X_train_undersampled, X_test_undersampled, y_train_undersampled, y_test_undersampled = train_test_split(X_undersampled, y_undersampled, test_size=0.2, random_state=42)"
   ]
  },
  {
   "cell_type": "code",
<<<<<<< HEAD
   "execution_count": 7,
=======
   "execution_count": 12,
>>>>>>> 84fe72c2a30aa02ce27d14e0662ccf20bb1f28a4
   "metadata": {},
   "outputs": [],
   "source": [
    "n_splits = 5\n",
    "\n",
    "def GridSer_model(model_params,X_train,y_train):\n",
    "    scores = []\n",
    "    cv=KFold(n_splits=n_splits, random_state=random_state, shuffle=True)\n",
    "    for model_name, mp in model_params.items():\n",
    "        clf =  GridSearchCV(mp['model'], mp['params'], cv=cv, return_train_score=False,n_jobs=-1,error_score=0)\n",
    "        clf.fit(X_train,y_train)\n",
    "        best_model = mp['model'].set_params(**clf.best_params_)\n",
    "        scores.append({\n",
    "            'best_model': best_model,\n",
    "            'model': model_name,\n",
    "            'best_score': clf.best_score_,\n",
    "            'best_params': clf.best_params_\n",
    "        })\n",
    "    return pd.DataFrame(scores,columns=['best_model','model','best_score','best_params']).sort_values(by=['best_score'], ascending=False)"
   ]
  },
  {
   "cell_type": "code",
<<<<<<< HEAD
   "execution_count": 21,
=======
   "execution_count": 13,
>>>>>>> 84fe72c2a30aa02ce27d14e0662ccf20bb1f28a4
   "metadata": {},
   "outputs": [],
   "source": [
    "\n",
    "def model_training(X_train, y_train, X_test,  y_test, models):\n",
    "    \n",
    "    # Create an empty DataFrame to store results\n",
    "    results_df = pd.DataFrame(columns=['Model', 'Accuracy'])\n",
    "\n",
    "    for model in models:\n",
    "        \n",
    "        model.fit(X_train, y_train)\n",
    "        # Make predictions\n",
    "        predictions = model.predict(X_test)\n",
    "        \n",
    "        # Evaluate the model\n",
    "        accuracy = accuracy_score(y_test, predictions)\n",
    "        precision =precision_score(y_test, predictions)\n",
    "        recall= recall_score(y_test, predictions)\n",
    "        f1= f1_score(y_test, predictions)\n",
    "        cm=confusion_matrix(y_test, predictions)\n",
    "        labels=model.classes_\n",
    "        \n",
    "        # Append results to the DataFrame\n",
<<<<<<< HEAD
    "        temp_df = pd.DataFrame({'Model': [model.__class__.__name__], 'Accuracy': [accuracy], 'Precision': [precision], 'recall': [recall], 'cm':[cm],'labels':[labels]})\n",
=======
    "        temp_df = pd.DataFrame({'Model': [model.__class__.__name__], 'Accuracy': [accuracy], 'Precision': [precision], 'recall': [recall], 'f1':[f1], 'cm':[cm]})\n",
>>>>>>> 84fe72c2a30aa02ce27d14e0662ccf20bb1f28a4
    "        results_df = pd.concat([results_df, temp_df], ignore_index=True)\n",
    "\n",
    "\n",
    "    # Sort and return the results DataFrame\n",
    "    return results_df.sort_values(by=['Accuracy'], ascending=False)\n"
   ]
  },
  {
   "cell_type": "code",
<<<<<<< HEAD
   "execution_count": 9,
=======
   "execution_count": 14,
>>>>>>> 84fe72c2a30aa02ce27d14e0662ccf20bb1f28a4
   "metadata": {},
   "outputs": [],
   "source": [
    "model_params = {\n",
    "    \n",
    "    'AdaBoostClassifier' : {\n",
    "        'model': AdaBoostClassifier(),\n",
    "        'params': {\n",
    "            'n_estimators': [50, 100, 200], \n",
    "            'learning_rate': [0.01, 0.1, 1]\n",
    "        }\n",
    "    } ,\n",
    "    \n",
    "    'ExtraTreesClassifier' : {\n",
    "        'model': ExtraTreesClassifier(),\n",
    "        'params': {\n",
    "        'n_estimators': [50, 100, 200],\n",
    "        'criterion': ['gini', 'entropy'],\n",
    "        'max_depth': [None, 10, 20, 30],\n",
    "        'min_samples_split': [2, 4, 6],\n",
    "        'min_samples_leaf': [1, 2, 3],\n",
    "        'max_features': ['sqrt', 'log2']\n",
    "        }\n",
    "    },\n",
    "    # 'LGBMClassifier' : {\n",
    "    #     'model': LGBMClassifier(),\n",
    "    #     'params': {\n",
    "    #         'boosting_type': ['gbdt', 'dart', 'goss', 'rf'],\n",
    "    #         'learning_rate': [0.01, 0.05, 0.1, 0.5, 1],\n",
    "    #         'n_estimators': [50, 100, 200],\n",
    "    #         'num_leaves': [15, 31, 63, 127],\n",
    "    #         'min_data_in_leaf': [5, 10, 20],\n",
    "    #         'lambda_l2': [0.0, 0.1, 1.0]\n",
    "    #     }\n",
    "    # },\n",
    "    # 'SVM':{\n",
    "    #     'model': SVC(),\n",
    "    #     'params': {\n",
    "    #         'C': [0.1, 1, 10, 100], \n",
    "    #         'kernel': ['linear', 'rbf', 'poly', 'sigmoid']\n",
    "    #     }\n",
    "    # },\n",
    "\n",
    "    #   'XGBClassifier' : {\n",
    "    #     'model': XGBClassifier(),\n",
    "    #     'params': {\n",
    "    #         'n_estimators': [50, 100, 200], \n",
    "    #         'learning_rate': [0.01, 0.1, 1],\n",
    "    #         'max_depth': [3, 5, 10],\n",
    "    #         'gamma': [0, 0.1, 0.5, 1],\n",
    "    #         'subsample': [0.5, 0.75, 1],\n",
    "    #         'colsample_bytree': [0.5, 0.75, 1],\n",
    "    #         'lambda': [0.0, 0.1, 1.0]\n",
    "    #     }\n",
    "    # },\n",
    "    # 'RandomForestClassifier' : {\n",
    "    #     'model': RandomForestClassifier(),\n",
    "    #     'params': {\n",
    "    #         'n_estimators': [50, 100, 200],\n",
    "    #         'criterion': ['gini', 'entropy'],\n",
    "    #         'max_depth': [None, 10, 20, 30],\n",
    "    #         'min_samples_split': [2, 4, 6],\n",
    "    #         'min_samples_leaf': [1, 2, 3],\n",
    "    #         'max_features': ['auto', 'sqrt', 'log2']\n",
    "    #     }\n",
    "    # },\n",
    "    'HistGradientBoostingClassifier':{\n",
    "        'model': HistGradientBoostingClassifier(),\n",
    "        'params': {\n",
    "            'learning_rate': [0.01, 0.05, 0.1, 0.5, 1],\n",
    "            'max_iter': [50, 100, 200],\n",
    "            'max_leaf_nodes': [15, 31, 63, 127],\n",
    "            'min_samples_leaf': [5, 10, 20],\n",
    "            'l2_regularization': [0.0, 0.1, 1.0]\n",
    "        }\n",
    "    },\n",
    "    # 'LogisticRegression' : {\n",
    "    #     'model': LogisticRegression(),\n",
    "    #     'params': {\n",
    "    #         'C': [0.1, 1, 10, 100], \n",
    "    #         'solver': ['newton-cg', 'lbfgs', 'liblinear', 'sag', 'saga']\n",
    "    #     }\n",
    "    # }\n",
    "    \n",
    "}"
   ]
  },
  {
   "cell_type": "code",
   "execution_count": null,
   "metadata": {},
   "outputs": [],
   "source": [
    "original = GridSer_model(model_params,X_train,y_train)"
   ]
  },
  {
   "cell_type": "code",
   "execution_count": null,
   "metadata": {},
   "outputs": [],
   "source": [
    "original"
   ]
  },
  {
   "cell_type": "code",
   "execution_count": null,
   "metadata": {},
   "outputs": [],
   "source": [
    "original"
   ]
  },
  {
   "cell_type": "code",
   "execution_count": null,
   "metadata": {},
   "outputs": [],
   "source": [
    "models=original['best_model'].tolist()\n",
    "model_training(X_train, y_train, X_test, y_test, models)\n"
   ]
  },
  {
   "cell_type": "code",
   "execution_count": null,
   "metadata": {},
   "outputs": [],
   "source": [
    "oversampled_grd=GridSer_model(model_params,X_train_oversampled,y_train_oversampled)"
   ]
  },
  {
   "cell_type": "code",
   "execution_count": null,
   "metadata": {},
   "outputs": [],
   "source": [
    "oversampled_grd"
   ]
  },
  {
   "cell_type": "code",
   "execution_count": null,
   "metadata": {},
   "outputs": [],
   "source": [
    "models_oversampled_grd=oversampled_grd['best_model'].tolist()\n",
    "model_training(X_train_oversampled, y_train_oversampled, X_test_oversampled, y_test_oversampled, models_oversampled_grd)"
   ]
  },
  {
   "cell_type": "code",
<<<<<<< HEAD
   "execution_count": 10,
=======
   "execution_count": 15,
>>>>>>> 84fe72c2a30aa02ce27d14e0662ccf20bb1f28a4
   "metadata": {},
   "outputs": [],
   "source": [
    "undersampled_grd=GridSer_model(model_params,X_train_undersampled,y_train_undersampled)"
   ]
  },
  {
   "cell_type": "code",
   "execution_count": 11,
   "metadata": {},
   "outputs": [
    {
     "data": {
      "text/html": [
       "<div>\n",
       "<style scoped>\n",
       "    .dataframe tbody tr th:only-of-type {\n",
       "        vertical-align: middle;\n",
       "    }\n",
       "\n",
       "    .dataframe tbody tr th {\n",
       "        vertical-align: top;\n",
       "    }\n",
       "\n",
       "    .dataframe thead th {\n",
       "        text-align: right;\n",
       "    }\n",
       "</style>\n",
       "<table border=\"1\" class=\"dataframe\">\n",
       "  <thead>\n",
       "    <tr style=\"text-align: right;\">\n",
       "      <th></th>\n",
       "      <th>best_model</th>\n",
       "      <th>model</th>\n",
       "      <th>best_score</th>\n",
       "      <th>best_params</th>\n",
       "    </tr>\n",
       "  </thead>\n",
       "  <tbody>\n",
       "    <tr>\n",
       "      <th>0</th>\n",
       "      <td>AdaBoostClassifier(learning_rate=0.01)</td>\n",
       "      <td>AdaBoostClassifier</td>\n",
       "      <td>0.985714</td>\n",
       "      <td>{'learning_rate': 0.01, 'n_estimators': 50}</td>\n",
       "    </tr>\n",
       "    <tr>\n",
       "      <th>2</th>\n",
       "      <td>HistGradientBoostingClassifier(learning_rate=0...</td>\n",
       "      <td>HistGradientBoostingClassifier</td>\n",
       "      <td>0.985714</td>\n",
       "      <td>{'l2_regularization': 0.0, 'learning_rate': 0....</td>\n",
       "    </tr>\n",
       "    <tr>\n",
       "      <th>1</th>\n",
       "      <td>ExtraTreesClassifier(max_depth=10, max_feature...</td>\n",
       "      <td>ExtraTreesClassifier</td>\n",
       "      <td>0.971429</td>\n",
       "      <td>{'criterion': 'gini', 'max_depth': 10, 'max_fe...</td>\n",
       "    </tr>\n",
       "  </tbody>\n",
       "</table>\n",
       "</div>"
      ],
      "text/plain": [
       "                                          best_model  \\\n",
       "0             AdaBoostClassifier(learning_rate=0.01)   \n",
       "2  HistGradientBoostingClassifier(learning_rate=0...   \n",
       "1  ExtraTreesClassifier(max_depth=10, max_feature...   \n",
       "\n",
       "                            model  best_score  \\\n",
       "0              AdaBoostClassifier    0.985714   \n",
       "2  HistGradientBoostingClassifier    0.985714   \n",
       "1            ExtraTreesClassifier    0.971429   \n",
       "\n",
       "                                         best_params  \n",
       "0        {'learning_rate': 0.01, 'n_estimators': 50}  \n",
       "2  {'l2_regularization': 0.0, 'learning_rate': 0....  \n",
       "1  {'criterion': 'gini', 'max_depth': 10, 'max_fe...  "
      ]
     },
     "execution_count": 11,
     "metadata": {},
     "output_type": "execute_result"
    }
   ],
   "source": [
    "undersampled_grd"
   ]
  },
  {
   "cell_type": "code",
<<<<<<< HEAD
   "execution_count": 12,
   "metadata": {},
   "outputs": [
    {
     "data": {
      "text/plain": [
       "{'criterion': 'gini',\n",
       " 'max_depth': 10,\n",
       " 'max_features': 'log2',\n",
       " 'min_samples_leaf': 1,\n",
       " 'min_samples_split': 6,\n",
       " 'n_estimators': 100}"
      ]
     },
     "execution_count": 12,
     "metadata": {},
     "output_type": "execute_result"
    }
   ],
   "source": [
    "undersampled_grd['best_params'][1]"
   ]
  },
  {
   "cell_type": "code",
   "execution_count": 22,
   "metadata": {},
   "outputs": [],
   "source": [
    "models_undersampled_grd=undersampled_grd['best_model'].tolist()\n",
    "models_undersampled_grd_t=model_training(X_train_undersampled, y_train_undersampled, X_test_undersampled, y_test_undersampled, models_undersampled_grd)"
   ]
  },
  {
   "cell_type": "code",
   "execution_count": 23,
   "metadata": {},
   "outputs": [
=======
   "execution_count": 16,
   "metadata": {},
   "outputs": [
    {
     "name": "stderr",
     "output_type": "stream",
     "text": [
      "/var/folders/k4/_ms9gszn46s_6f86x4tywvbc0000gn/T/ipykernel_35752/2236379423.py:21: FutureWarning: The behavior of DataFrame concatenation with empty or all-NA entries is deprecated. In a future version, this will no longer exclude empty or all-NA columns when determining the result dtypes. To retain the old behavior, exclude the relevant entries before the concat operation.\n",
      "  results_df = pd.concat([results_df, temp_df], ignore_index=True)\n"
     ]
    },
>>>>>>> 84fe72c2a30aa02ce27d14e0662ccf20bb1f28a4
    {
     "data": {
      "text/html": [
       "<div>\n",
       "<style scoped>\n",
       "    .dataframe tbody tr th:only-of-type {\n",
       "        vertical-align: middle;\n",
       "    }\n",
       "\n",
       "    .dataframe tbody tr th {\n",
       "        vertical-align: top;\n",
       "    }\n",
       "\n",
       "    .dataframe thead th {\n",
       "        text-align: right;\n",
       "    }\n",
       "</style>\n",
       "<table border=\"1\" class=\"dataframe\">\n",
       "  <thead>\n",
       "    <tr style=\"text-align: right;\">\n",
       "      <th></th>\n",
       "      <th>Model</th>\n",
       "      <th>Accuracy</th>\n",
       "      <th>Precision</th>\n",
       "      <th>recall</th>\n",
       "      <th>f1</th>\n",
       "      <th>cm</th>\n",
       "      <th>labels</th>\n",
       "    </tr>\n",
       "  </thead>\n",
       "  <tbody>\n",
       "    <tr>\n",
       "      <th>0</th>\n",
       "      <td>AdaBoostClassifier</td>\n",
       "      <td>1.000000</td>\n",
       "      <td>1.000</td>\n",
       "      <td>1.0</td>\n",
<<<<<<< HEAD
       "      <td>[[8, 0], [0, 10]]</td>\n",
       "      <td>[0, 1]</td>\n",
       "    </tr>\n",
       "    <tr>\n",
       "      <th>1</th>\n",
       "      <td>HistGradientBoostingClassifier</td>\n",
       "      <td>1.000000</td>\n",
       "      <td>1.000</td>\n",
       "      <td>1.0</td>\n",
=======
       "      <td>1.000000</td>\n",
>>>>>>> 84fe72c2a30aa02ce27d14e0662ccf20bb1f28a4
       "      <td>[[8, 0], [0, 10]]</td>\n",
       "      <td>[0, 1]</td>\n",
       "    </tr>\n",
       "    <tr>\n",
       "      <th>2</th>\n",
       "      <td>HistGradientBoostingClassifier</td>\n",
       "      <td>1.000000</td>\n",
       "      <td>1.000000</td>\n",
       "      <td>1.0</td>\n",
       "      <td>1.000000</td>\n",
       "      <td>[[8, 0], [0, 10]]</td>\n",
       "    </tr>\n",
       "    <tr>\n",
       "      <th>1</th>\n",
       "      <td>ExtraTreesClassifier</td>\n",
<<<<<<< HEAD
       "      <td>0.777778</td>\n",
       "      <td>0.875</td>\n",
       "      <td>0.7</td>\n",
       "      <td>[[7, 1], [3, 7]]</td>\n",
       "      <td>[0, 1]</td>\n",
=======
       "      <td>0.833333</td>\n",
       "      <td>0.888889</td>\n",
       "      <td>0.8</td>\n",
       "      <td>0.842105</td>\n",
       "      <td>[[7, 1], [2, 8]]</td>\n",
>>>>>>> 84fe72c2a30aa02ce27d14e0662ccf20bb1f28a4
       "    </tr>\n",
       "  </tbody>\n",
       "</table>\n",
       "</div>"
      ],
      "text/plain": [
<<<<<<< HEAD
       "                            Model  Accuracy  Precision  recall  \\\n",
       "0              AdaBoostClassifier  1.000000      1.000     1.0   \n",
       "1  HistGradientBoostingClassifier  1.000000      1.000     1.0   \n",
       "2            ExtraTreesClassifier  0.777778      0.875     0.7   \n",
       "\n",
       "                  cm  labels  \n",
       "0  [[8, 0], [0, 10]]  [0, 1]  \n",
       "1  [[8, 0], [0, 10]]  [0, 1]  \n",
       "2   [[7, 1], [3, 7]]  [0, 1]  "
      ]
     },
     "execution_count": 23,
=======
       "                            Model  Accuracy  Precision  recall        f1  \\\n",
       "0              AdaBoostClassifier  1.000000   1.000000     1.0  1.000000   \n",
       "2  HistGradientBoostingClassifier  1.000000   1.000000     1.0  1.000000   \n",
       "1            ExtraTreesClassifier  0.833333   0.888889     0.8  0.842105   \n",
       "\n",
       "                  cm  \n",
       "0  [[8, 0], [0, 10]]  \n",
       "2  [[8, 0], [0, 10]]  \n",
       "1   [[7, 1], [2, 8]]  "
      ]
     },
     "execution_count": 16,
>>>>>>> 84fe72c2a30aa02ce27d14e0662ccf20bb1f28a4
     "metadata": {},
     "output_type": "execute_result"
    }
   ],
   "source": [
    "models_undersampled_grd_t\n"
   ]
  },
  {
   "cell_type": "code",
   "execution_count": 28,
   "metadata": {},
   "outputs": [
    {
     "data": {
      "image/png": "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",
      "text/plain": [
       "<Figure size 640x480 with 2 Axes>"
      ]
     },
     "metadata": {},
     "output_type": "display_data"
    }
   ],
   "source": [
    "cm=models_undersampled_grd_t['cm'][0]\n",
    "disp = ConfusionMatrixDisplay(confusion_matrix=cm, display_labels=[0,1])\n",
    "disp.plot(cmap=plt.cm.Blues)\n",
    "plt.title('AdaBoostClassifier')\n",
    "plt.show()"
   ]
  },
  {
   "cell_type": "code",
   "execution_count": 29,
   "metadata": {},
   "outputs": [
    {
     "data": {
      "image/png": "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",
      "text/plain": [
       "<Figure size 640x480 with 2 Axes>"
      ]
     },
     "metadata": {},
     "output_type": "display_data"
    }
   ],
   "source": [
    "# models_undersampled_grd_t\n",
    "cm=models_undersampled_grd_t['cm'][1]\n",
    "cm\n",
    "disp = ConfusionMatrixDisplay(confusion_matrix=cm, display_labels=[0,1])\n",
    "disp.plot(cmap=plt.cm.Blues)\n",
    "plt.title('HistGradientBoostingClassifier')\n",
    "plt.show()"
   ]
  },
  {
   "cell_type": "code",
   "execution_count": 27,
   "metadata": {},
   "outputs": [
    {
     "data": {
      "image/png": "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",
      "text/plain": [
       "<Figure size 640x480 with 2 Axes>"
      ]
     },
     "metadata": {},
     "output_type": "display_data"
    }
   ],
   "source": [
    "# models_undersampled_grd_t\n",
    "cm=models_undersampled_grd_t['cm'][2]\n",
    "cm\n",
    "disp = ConfusionMatrixDisplay(confusion_matrix=cm, display_labels=[0,1])\n",
    "disp.plot(cmap=plt.cm.Blues)\n",
    "plt.title('ExtraTreesClassifier')\n",
    "plt.show()"
   ]
  },
  {
   "cell_type": "code",
   "execution_count": null,
   "metadata": {},
   "outputs": [],
   "source": [
    "import pickle\n",
    "pickle.dump(models_undersampled_grd[0], open('/Users/shahadaleissa/Downloads/Code/SMOTEENN_Models/Adaboost_SMOTEENN.pkl','wb'))\n",
    "pickle.dump(models_undersampled_grd[2], open('/Users/shahadaleissa/Downloads/Code/SMOTEENN_Models/ET_SMOTEENN.pkl','wb'))\n",
    "pickle.dump(models_undersampled_grd[1], open('/Users/shahadaleissa/Downloads/Code/SMOTEENN_Models/HGB_SMOTEENN.pkl','wb'))"
   ]
  }
 ],
 "metadata": {
  "kernelspec": {
   "display_name": "base",
   "language": "python",
   "name": "python3"
  },
  "language_info": {
   "codemirror_mode": {
    "name": "ipython",
    "version": 3
   },
   "file_extension": ".py",
   "mimetype": "text/x-python",
   "name": "python",
   "nbconvert_exporter": "python",
   "pygments_lexer": "ipython3",
   "version": "3.10.9"
  }
 },
 "nbformat": 4,
 "nbformat_minor": 2
}
