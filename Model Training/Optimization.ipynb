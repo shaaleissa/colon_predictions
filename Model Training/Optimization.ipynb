{
 "cells": [
  {
   "cell_type": "code",
   "execution_count": 1,
   "metadata": {},
   "outputs": [],
   "source": [
    "from sklearn.ensemble import AdaBoostClassifier\n",
    "from sklearn.ensemble import ExtraTreesClassifier\n",
    "from sklearn.ensemble import HistGradientBoostingClassifier\n",
    "from sklearn.ensemble import RandomForestClassifier\n",
    "from sklearn.linear_model import LogisticRegression\n",
    "from sklearn.svm import SVC\n",
    "from xgboost import XGBClassifier\n",
    "from lightgbm import LGBMClassifier\n",
    "from sklearn.model_selection import train_test_split, GridSearchCV ,KFold\n",
    "import pandas as pd\n",
    "from sklearn.metrics import ConfusionMatrixDisplay,confusion_matrix\n",
    "import matplotlib.pyplot as plt\n",
    "from imblearn.over_sampling import SMOTE\n",
    "from sklearn.metrics import classification_report\n",
    "from collections import Counter\n",
    "from imblearn.under_sampling import RandomUnderSampler\n",
    "import numpy as np\n",
    "from sklearn.model_selection import cross_val_score\n",
    "from sklearn.calibration import LabelEncoder\n",
    "from sklearn.metrics import accuracy_score"
   ]
  },
  {
   "cell_type": "code",
   "execution_count": null,
   "metadata": {},
   "outputs": [],
   "source": [
    "df = pd.read_csv('/Users/maryam/colon_predictions/Data/colon-dataset-processed.csv')\n",
    "le = LabelEncoder()\n",
    "df['Class'] = le.fit_transform(df['Class'])\n",
    "df"
   ]
  },
  {
   "cell_type": "code",
   "execution_count": null,
   "metadata": {},
   "outputs": [],
   "source": [
    "n_splits = 5\n",
    "\n",
    "def GridSer_model(model_params,X_train,y_train):\n",
    "    scores = []\n",
    "    cv=KFold(n_splits=n_splits, random_state=random_state, shuffle=True)\n",
    "    for model_name, mp in model_params.items():\n",
    "        clf =  GridSearchCV(mp['model'], mp['params'], cv=cv, return_train_score=False,n_jobs=-1,error_score=0)\n",
    "        clf.fit(X_train,y_train)\n",
    "        scores.append({\n",
    "            'model': model_name,\n",
    "            'best_score': clf.best_score_,\n",
    "            'best_params': clf.best_params_\n",
    "        })\n",
    "    return pd.DataFrame(scores,columns=['model','best_score','best_params']).sort_values(by=['best_score'], ascending=False)"
   ]
  },
  {
   "cell_type": "code",
   "execution_count": null,
   "metadata": {},
   "outputs": [],
   "source": [
    "model_params = {\n",
    "    \n",
    "    'AdaBoostClassifier' : {\n",
    "        'model': AdaBoostClassifier(),\n",
    "        'params': {\n",
    "            'n_estimators': [50, 100, 200], \n",
    "            'learning_rate': [0.01, 0.1, 1]\n",
    "        }\n",
    "    } ,\n",
    "    \n",
    "    'ExtraTreesClassifier' : {\n",
    "        'model': ExtraTreesClassifier(),\n",
    "        'params': {\n",
    "        'n_estimators': [50, 100, 200],\n",
    "        'criterion': ['gini', 'entropy'],\n",
    "        'max_depth': [None, 10, 20, 30],\n",
    "        'min_samples_split': [2, 4, 6],\n",
    "        'min_samples_leaf': [1, 2, 3],\n",
    "        'max_features': ['auto', 'sqrt', 'log2']\n",
    "        }\n",
    "    },\n",
    "    # 'LGBMClassifier' : {\n",
    "    #     'model': LGBMClassifier(),\n",
    "    #     'params': {\n",
    "    #         'boosting_type': ['gbdt', 'dart', 'goss', 'rf'],\n",
    "    #         'learning_rate': [0.01, 0.05, 0.1, 0.5, 1],\n",
    "    #         'n_estimators': [50, 100, 200],\n",
    "    #         'num_leaves': [15, 31, 63, 127],\n",
    "    #         'min_data_in_leaf': [5, 10, 20],\n",
    "    #         'lambda_l2': [0.0, 0.1, 1.0]\n",
    "    #     }\n",
    "    # },\n",
    "    'SVM':{\n",
    "        'model': SVC(),\n",
    "        'params': {\n",
    "            'C': [0.1, 1, 10, 100], \n",
    "            'kernel': ['linear', 'rbf', 'poly', 'sigmoid']\n",
    "        }\n",
    "    },\n",
    "\n",
    "      'XGBClassifier' : {\n",
    "        'model': XGBClassifier(),\n",
    "        'params': {\n",
    "            'n_estimators': [50, 100, 200], \n",
    "            'learning_rate': [0.01, 0.1, 1],\n",
    "            'max_depth': [3, 5, 10],\n",
    "            'gamma': [0, 0.1, 0.5, 1],\n",
    "            'subsample': [0.5, 0.75, 1],\n",
    "            'colsample_bytree': [0.5, 0.75, 1],\n",
    "            'lambda': [0.0, 0.1, 1.0]\n",
    "        }\n",
    "    },\n",
    "    'RandomForestClassifier' : {\n",
    "        'model': RandomForestClassifier(),\n",
    "        'params': {\n",
    "            'n_estimators': [50, 100, 200],\n",
    "            'criterion': ['gini', 'entropy'],\n",
    "            'max_depth': [None, 10, 20, 30],\n",
    "            'min_samples_split': [2, 4, 6],\n",
    "            'min_samples_leaf': [1, 2, 3],\n",
    "            'max_features': ['auto', 'sqrt', 'log2']\n",
    "        }\n",
    "    },\n",
    "    'HistGradientBoostingClassifier':{\n",
    "        'model': HistGradientBoostingClassifier(),\n",
    "        'params': {\n",
    "            'learning_rate': [0.01, 0.05, 0.1, 0.5, 1],\n",
    "            'max_iter': [50, 100, 200],\n",
    "            'max_leaf_nodes': [15, 31, 63, 127],\n",
    "            'min_samples_leaf': [5, 10, 20],\n",
    "            'l2_regularization': [0.0, 0.1, 1.0]\n",
    "        }\n",
    "    },\n",
    "    'LogisticRegression' : {\n",
    "        'model': LogisticRegression(),\n",
    "        'params': {\n",
    "            'C': [0.1, 1, 10, 100], \n",
    "            'solver': ['newton-cg', 'lbfgs', 'liblinear', 'sag', 'saga']\n",
    "        }\n",
    "    }\n",
    "    \n",
    "}"
   ]
  },
  {
   "cell_type": "code",
   "execution_count": null,
   "metadata": {},
   "outputs": [],
   "source": [
    "original = GridSer_model(model_params,X_train,y_train)"
   ]
  },
  {
   "cell_type": "code",
   "execution_count": null,
   "metadata": {},
   "outputs": [],
   "source": [
    "original"
   ]
  },
  {
   "cell_type": "code",
   "execution_count": null,
   "metadata": {},
   "outputs": [],
   "source": [
    "oversampled_grd=GridSer_model(model_params,X_train_oversampled,y_train_oversampled)"
   ]
  },
  {
   "cell_type": "code",
   "execution_count": null,
   "metadata": {},
   "outputs": [],
   "source": [
    "oversampled_grd"
   ]
  },
  {
   "cell_type": "code",
   "execution_count": null,
   "metadata": {},
   "outputs": [],
   "source": [
    "undersampled_grd=GridSer_model(model_params,X_train_undersampled,y_train_undersampled)"
   ]
  },
  {
   "cell_type": "code",
   "execution_count": null,
   "metadata": {},
   "outputs": [],
   "source": [
    "undersampled_grd"
   ]
  }
 ],
 "metadata": {
  "kernelspec": {
   "display_name": "base",
   "language": "python",
   "name": "python3"
  },
  "language_info": {
   "codemirror_mode": {
    "name": "ipython",
    "version": 3
   },
   "file_extension": ".py",
   "mimetype": "text/x-python",
   "name": "python",
   "nbconvert_exporter": "python",
   "pygments_lexer": "ipython3",
   "version": "3.10.9"
  }
 },
 "nbformat": 4,
 "nbformat_minor": 2
}
