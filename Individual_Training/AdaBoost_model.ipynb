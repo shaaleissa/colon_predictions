{
 "cells": [
  {
   "cell_type": "code",
   "execution_count": 1,
   "metadata": {},
   "outputs": [],
   "source": [
    "from sklearn.ensemble import AdaBoostClassifier\n",
    "from sklearn.model_selection import train_test_split, GridSearchCV ,KFold\n",
    "import pandas as pd\n",
    "from sklearn.metrics import ConfusionMatrixDisplay,confusion_matrix\n",
    "import matplotlib.pyplot as plt\n",
    "from imblearn.over_sampling import SMOTE\n",
    "from sklearn.metrics import classification_report\n",
    "from collections import Counter\n",
    "from imblearn.under_sampling import RandomUnderSampler\n",
    "import numpy as np\n",
    "from sklearn.model_selection import cross_val_score"
   ]
  },
  {
   "cell_type": "code",
   "execution_count": 2,
   "metadata": {},
   "outputs": [],
   "source": [
    "best_models={}\n",
    "def best_model(model,main_score,params):\n",
    "    best_models[model]={\n",
    "            'best_score':main_score,\n",
    "            'best_params':params\n",
    "        }\n",
    "    return best_models"
   ]
  },
  {
   "cell_type": "code",
   "execution_count": 3,
   "metadata": {},
   "outputs": [
    {
     "data": {
      "text/html": [
       "<div>\n",
       "<style scoped>\n",
       "    .dataframe tbody tr th:only-of-type {\n",
       "        vertical-align: middle;\n",
       "    }\n",
       "\n",
       "    .dataframe tbody tr th {\n",
       "        vertical-align: top;\n",
       "    }\n",
       "\n",
       "    .dataframe thead th {\n",
       "        text-align: right;\n",
       "    }\n",
       "</style>\n",
       "<table border=\"1\" class=\"dataframe\">\n",
       "  <thead>\n",
       "    <tr style=\"text-align: right;\">\n",
       "      <th></th>\n",
       "      <th>Class</th>\n",
       "      <th>Age</th>\n",
       "      <th>p16540_C/C</th>\n",
       "      <th>p16540_G/C</th>\n",
       "      <th>p16540_G/G</th>\n",
       "      <th>p16580_C/C</th>\n",
       "      <th>p16580_C/T</th>\n",
       "      <th>p16580_T/T</th>\n",
       "      <th>mdm2_G/G</th>\n",
       "      <th>mdm2_G/T</th>\n",
       "      <th>mdm2_T/T</th>\n",
       "      <th>GAL3_A/A</th>\n",
       "      <th>GAL3_C/A</th>\n",
       "      <th>GAL3_C/C</th>\n",
       "      <th>TIM1_C/C</th>\n",
       "      <th>TIM1_G/C</th>\n",
       "      <th>TIM1_G/G</th>\n",
       "    </tr>\n",
       "  </thead>\n",
       "  <tbody>\n",
       "    <tr>\n",
       "      <th>0</th>\n",
       "      <td>1</td>\n",
       "      <td>49</td>\n",
       "      <td>False</td>\n",
       "      <td>True</td>\n",
       "      <td>False</td>\n",
       "      <td>True</td>\n",
       "      <td>False</td>\n",
       "      <td>False</td>\n",
       "      <td>True</td>\n",
       "      <td>False</td>\n",
       "      <td>False</td>\n",
       "      <td>False</td>\n",
       "      <td>True</td>\n",
       "      <td>False</td>\n",
       "      <td>False</td>\n",
       "      <td>True</td>\n",
       "      <td>False</td>\n",
       "    </tr>\n",
       "    <tr>\n",
       "      <th>1</th>\n",
       "      <td>1</td>\n",
       "      <td>49</td>\n",
       "      <td>False</td>\n",
       "      <td>True</td>\n",
       "      <td>False</td>\n",
       "      <td>True</td>\n",
       "      <td>False</td>\n",
       "      <td>False</td>\n",
       "      <td>True</td>\n",
       "      <td>False</td>\n",
       "      <td>False</td>\n",
       "      <td>True</td>\n",
       "      <td>False</td>\n",
       "      <td>False</td>\n",
       "      <td>False</td>\n",
       "      <td>True</td>\n",
       "      <td>False</td>\n",
       "    </tr>\n",
       "    <tr>\n",
       "      <th>2</th>\n",
       "      <td>1</td>\n",
       "      <td>49</td>\n",
       "      <td>False</td>\n",
       "      <td>True</td>\n",
       "      <td>False</td>\n",
       "      <td>True</td>\n",
       "      <td>False</td>\n",
       "      <td>False</td>\n",
       "      <td>False</td>\n",
       "      <td>True</td>\n",
       "      <td>False</td>\n",
       "      <td>False</td>\n",
       "      <td>True</td>\n",
       "      <td>False</td>\n",
       "      <td>True</td>\n",
       "      <td>False</td>\n",
       "      <td>False</td>\n",
       "    </tr>\n",
       "    <tr>\n",
       "      <th>3</th>\n",
       "      <td>1</td>\n",
       "      <td>36</td>\n",
       "      <td>False</td>\n",
       "      <td>True</td>\n",
       "      <td>False</td>\n",
       "      <td>True</td>\n",
       "      <td>False</td>\n",
       "      <td>False</td>\n",
       "      <td>False</td>\n",
       "      <td>False</td>\n",
       "      <td>True</td>\n",
       "      <td>False</td>\n",
       "      <td>True</td>\n",
       "      <td>False</td>\n",
       "      <td>True</td>\n",
       "      <td>False</td>\n",
       "      <td>False</td>\n",
       "    </tr>\n",
       "    <tr>\n",
       "      <th>4</th>\n",
       "      <td>1</td>\n",
       "      <td>49</td>\n",
       "      <td>True</td>\n",
       "      <td>False</td>\n",
       "      <td>False</td>\n",
       "      <td>False</td>\n",
       "      <td>True</td>\n",
       "      <td>False</td>\n",
       "      <td>False</td>\n",
       "      <td>False</td>\n",
       "      <td>True</td>\n",
       "      <td>False</td>\n",
       "      <td>False</td>\n",
       "      <td>True</td>\n",
       "      <td>False</td>\n",
       "      <td>True</td>\n",
       "      <td>False</td>\n",
       "    </tr>\n",
       "    <tr>\n",
       "      <th>...</th>\n",
       "      <td>...</td>\n",
       "      <td>...</td>\n",
       "      <td>...</td>\n",
       "      <td>...</td>\n",
       "      <td>...</td>\n",
       "      <td>...</td>\n",
       "      <td>...</td>\n",
       "      <td>...</td>\n",
       "      <td>...</td>\n",
       "      <td>...</td>\n",
       "      <td>...</td>\n",
       "      <td>...</td>\n",
       "      <td>...</td>\n",
       "      <td>...</td>\n",
       "      <td>...</td>\n",
       "      <td>...</td>\n",
       "      <td>...</td>\n",
       "    </tr>\n",
       "    <tr>\n",
       "      <th>110</th>\n",
       "      <td>0</td>\n",
       "      <td>81</td>\n",
       "      <td>False</td>\n",
       "      <td>True</td>\n",
       "      <td>False</td>\n",
       "      <td>True</td>\n",
       "      <td>False</td>\n",
       "      <td>False</td>\n",
       "      <td>False</td>\n",
       "      <td>False</td>\n",
       "      <td>True</td>\n",
       "      <td>False</td>\n",
       "      <td>False</td>\n",
       "      <td>True</td>\n",
       "      <td>False</td>\n",
       "      <td>False</td>\n",
       "      <td>True</td>\n",
       "    </tr>\n",
       "    <tr>\n",
       "      <th>111</th>\n",
       "      <td>0</td>\n",
       "      <td>73</td>\n",
       "      <td>True</td>\n",
       "      <td>False</td>\n",
       "      <td>False</td>\n",
       "      <td>True</td>\n",
       "      <td>False</td>\n",
       "      <td>False</td>\n",
       "      <td>False</td>\n",
       "      <td>False</td>\n",
       "      <td>True</td>\n",
       "      <td>False</td>\n",
       "      <td>False</td>\n",
       "      <td>True</td>\n",
       "      <td>False</td>\n",
       "      <td>False</td>\n",
       "      <td>True</td>\n",
       "    </tr>\n",
       "    <tr>\n",
       "      <th>112</th>\n",
       "      <td>0</td>\n",
       "      <td>56</td>\n",
       "      <td>True</td>\n",
       "      <td>False</td>\n",
       "      <td>False</td>\n",
       "      <td>True</td>\n",
       "      <td>False</td>\n",
       "      <td>False</td>\n",
       "      <td>False</td>\n",
       "      <td>True</td>\n",
       "      <td>False</td>\n",
       "      <td>False</td>\n",
       "      <td>False</td>\n",
       "      <td>True</td>\n",
       "      <td>False</td>\n",
       "      <td>True</td>\n",
       "      <td>False</td>\n",
       "    </tr>\n",
       "    <tr>\n",
       "      <th>113</th>\n",
       "      <td>0</td>\n",
       "      <td>74</td>\n",
       "      <td>False</td>\n",
       "      <td>True</td>\n",
       "      <td>False</td>\n",
       "      <td>False</td>\n",
       "      <td>True</td>\n",
       "      <td>False</td>\n",
       "      <td>True</td>\n",
       "      <td>False</td>\n",
       "      <td>False</td>\n",
       "      <td>False</td>\n",
       "      <td>False</td>\n",
       "      <td>True</td>\n",
       "      <td>False</td>\n",
       "      <td>False</td>\n",
       "      <td>True</td>\n",
       "    </tr>\n",
       "    <tr>\n",
       "      <th>114</th>\n",
       "      <td>0</td>\n",
       "      <td>37</td>\n",
       "      <td>False</td>\n",
       "      <td>True</td>\n",
       "      <td>False</td>\n",
       "      <td>False</td>\n",
       "      <td>True</td>\n",
       "      <td>False</td>\n",
       "      <td>False</td>\n",
       "      <td>False</td>\n",
       "      <td>True</td>\n",
       "      <td>False</td>\n",
       "      <td>False</td>\n",
       "      <td>True</td>\n",
       "      <td>False</td>\n",
       "      <td>True</td>\n",
       "      <td>False</td>\n",
       "    </tr>\n",
       "  </tbody>\n",
       "</table>\n",
       "<p>115 rows × 17 columns</p>\n",
       "</div>"
      ],
      "text/plain": [
       "     Class  Age  p16540_C/C  p16540_G/C  p16540_G/G  p16580_C/C  p16580_C/T  \\\n",
       "0        1   49       False        True       False        True       False   \n",
       "1        1   49       False        True       False        True       False   \n",
       "2        1   49       False        True       False        True       False   \n",
       "3        1   36       False        True       False        True       False   \n",
       "4        1   49        True       False       False       False        True   \n",
       "..     ...  ...         ...         ...         ...         ...         ...   \n",
       "110      0   81       False        True       False        True       False   \n",
       "111      0   73        True       False       False        True       False   \n",
       "112      0   56        True       False       False        True       False   \n",
       "113      0   74       False        True       False       False        True   \n",
       "114      0   37       False        True       False       False        True   \n",
       "\n",
       "     p16580_T/T  mdm2_G/G  mdm2_G/T  mdm2_T/T  GAL3_A/A  GAL3_C/A  GAL3_C/C  \\\n",
       "0         False      True     False     False     False      True     False   \n",
       "1         False      True     False     False      True     False     False   \n",
       "2         False     False      True     False     False      True     False   \n",
       "3         False     False     False      True     False      True     False   \n",
       "4         False     False     False      True     False     False      True   \n",
       "..          ...       ...       ...       ...       ...       ...       ...   \n",
       "110       False     False     False      True     False     False      True   \n",
       "111       False     False     False      True     False     False      True   \n",
       "112       False     False      True     False     False     False      True   \n",
       "113       False      True     False     False     False     False      True   \n",
       "114       False     False     False      True     False     False      True   \n",
       "\n",
       "     TIM1_C/C  TIM1_G/C  TIM1_G/G  \n",
       "0       False      True     False  \n",
       "1       False      True     False  \n",
       "2        True     False     False  \n",
       "3        True     False     False  \n",
       "4       False      True     False  \n",
       "..        ...       ...       ...  \n",
       "110     False     False      True  \n",
       "111     False     False      True  \n",
       "112     False      True     False  \n",
       "113     False     False      True  \n",
       "114     False      True     False  \n",
       "\n",
       "[115 rows x 17 columns]"
      ]
     },
     "execution_count": 3,
     "metadata": {},
     "output_type": "execute_result"
    }
   ],
   "source": [
    "from sklearn.calibration import LabelEncoder\n",
    "df = pd.read_csv('Data/colon-dataset-processed.csv')\n",
    "le = LabelEncoder()\n",
    "df['Class'] = le.fit_transform(df['Class'])\n",
    "df"
   ]
  },
  {
   "cell_type": "code",
   "execution_count": 4,
   "metadata": {},
   "outputs": [
    {
     "name": "stdout",
     "output_type": "stream",
     "text": [
      "Original dataset distribution Counter({0: 65, 1: 50})\n"
     ]
    }
   ],
   "source": [
    "data=df.drop(['Class'],axis=1)\n",
    "target=df['Class']\n",
    "print('Original dataset distribution %s' % Counter(target))\n",
    "random_state=42\n"
   ]
  },
  {
   "cell_type": "markdown",
   "metadata": {},
   "source": [
    "# Oreginal data "
   ]
  },
  {
   "cell_type": "code",
   "execution_count": 6,
   "metadata": {},
   "outputs": [
    {
     "name": "stdout",
     "output_type": "stream",
     "text": [
      "Accuracy: 88.57%\n"
     ]
    }
   ],
   "source": [
    "\n",
    "X_train, X_test, y_train, y_test = train_test_split(data, target, test_size = 0.3,random_state=random_state)\n",
    "\n",
    "adaboost = AdaBoostClassifier()\n",
    "adaboost.fit(X_train, y_train)\n",
    "\n",
    "y_pred_Org= adaboost.predict(X_test)\n",
    "print(\"Accuracy: %.2f%%\" % (adaboost.score(X_test, y_test) * 100.0))"
   ]
  },
  {
   "cell_type": "code",
   "execution_count": null,
   "metadata": {},
   "outputs": [],
   "source": [
    "#save the model\n",
    "import pickle\n",
    "filename = 'Models/AdaBoost_model.pkl'\n",
    "pickle.dump(adaboost, open(filename, 'wb'))"
   ]
  },
  {
   "cell_type": "code",
   "execution_count": 236,
   "metadata": {},
   "outputs": [
    {
     "name": "stdout",
     "output_type": "stream",
     "text": [
      "Average Accuracy over 35-fold cross-validation: 84.52%\n"
     ]
    }
   ],
   "source": [
    "# Perform cross-validation\n",
    "n_splits = 35\n",
    "cv_scores = cross_val_score(adaboost, data, target, cv=n_splits, scoring='accuracy')\n",
    "\n",
    "# Calculate the average of the cross-validation scores\n",
    "average_accuracy = np.mean(cv_scores)\n",
    "print(f\"Average Accuracy over %d-fold cross-validation: %.2f%%\" % (n_splits, average_accuracy*100))\n"
   ]
  },
  {
   "cell_type": "code",
   "execution_count": 237,
   "metadata": {},
   "outputs": [
    {
     "data": {
      "text/plain": [
       "{'adaboost orgein data': {'best_score': 84.52380952380952,\n",
       "  'best_params': {'algorithm': 'SAMME.R',\n",
       "   'base_estimator': 'deprecated',\n",
       "   'estimator': None,\n",
       "   'learning_rate': 1.0,\n",
       "   'n_estimators': 50,\n",
       "   'random_state': None}}}"
      ]
     },
     "execution_count": 237,
     "metadata": {},
     "output_type": "execute_result"
    }
   ],
   "source": [
    "best_model('adaboost orgein data',average_accuracy*100,adaboost.get_params())"
   ]
  },
  {
   "cell_type": "code",
   "execution_count": 238,
   "metadata": {},
   "outputs": [
    {
     "name": "stdout",
     "output_type": "stream",
     "text": [
      "              precision    recall  f1-score   support\n",
      "\n",
      "   diagnosed       0.89      0.89      0.89        18\n",
      "     healthy       0.88      0.88      0.88        17\n",
      "\n",
      "    accuracy                           0.89        35\n",
      "   macro avg       0.89      0.89      0.89        35\n",
      "weighted avg       0.89      0.89      0.89        35\n",
      "\n"
     ]
    },
    {
     "data": {
      "image/png": "[encoded data removed]",
      "text/plain": [
       "<Figure size 640x480 with 2 Axes>"
      ]
     },
     "metadata": {},
     "output_type": "display_data"
    }
   ],
   "source": [
    "\n",
    "print(classification_report(y_test, y_pred_Org))\n",
    "cm=confusion_matrix(y_test, y_pred_Org)\n",
    "disp = ConfusionMatrixDisplay(confusion_matrix=cm, display_labels=adaboost.classes_)\n",
    "disp.plot(cmap=plt.cm.Blues)\n",
    "plt.show()"
   ]
  },
  {
   "cell_type": "code",
   "execution_count": 239,
   "metadata": {},
   "outputs": [
    {
     "data": {
      "text/html": [
       "<style>#sk-container-id-22 {color: black;background-color: white;}#sk-container-id-22 pre{padding: 0;}#sk-container-id-22 div.sk-toggleable {background-color: white;}#sk-container-id-22 label.sk-toggleable__label {cursor: pointer;display: block;width: 100%;margin-bottom: 0;padding: 0.3em;box-sizing: border-box;text-align: center;}#sk-container-id-22 label.sk-toggleable__label-arrow:before {content: \"▸\";float: left;margin-right: 0.25em;color: #696969;}#sk-container-id-22 label.sk-toggleable__label-arrow:hover:before {color: black;}#sk-container-id-22 div.sk-estimator:hover label.sk-toggleable__label-arrow:before {color: black;}#sk-container-id-22 div.sk-toggleable__content {max-height: 0;max-width: 0;overflow: hidden;text-align: left;background-color: #f0f8ff;}#sk-container-id-22 div.sk-toggleable__content pre {margin: 0.2em;color: black;border-radius: 0.25em;background-color: #f0f8ff;}#sk-container-id-22 input.sk-toggleable__control:checked~div.sk-toggleable__content {max-height: 200px;max-width: 100%;overflow: auto;}#sk-container-id-22 input.sk-toggleable__control:checked~label.sk-toggleable__label-arrow:before {content: \"▾\";}#sk-container-id-22 div.sk-estimator input.sk-toggleable__control:checked~label.sk-toggleable__label {background-color: #d4ebff;}#sk-container-id-22 div.sk-label input.sk-toggleable__control:checked~label.sk-toggleable__label {background-color: #d4ebff;}#sk-container-id-22 input.sk-hidden--visually {border: 0;clip: rect(1px 1px 1px 1px);clip: rect(1px, 1px, 1px, 1px);height: 1px;margin: -1px;overflow: hidden;padding: 0;position: absolute;width: 1px;}#sk-container-id-22 div.sk-estimator {font-family: monospace;background-color: #f0f8ff;border: 1px dotted black;border-radius: 0.25em;box-sizing: border-box;margin-bottom: 0.5em;}#sk-container-id-22 div.sk-estimator:hover {background-color: #d4ebff;}#sk-container-id-22 div.sk-parallel-item::after {content: \"\";width: 100%;border-bottom: 1px solid gray;flex-grow: 1;}#sk-container-id-22 div.sk-label:hover label.sk-toggleable__label {background-color: #d4ebff;}#sk-container-id-22 div.sk-serial::before {content: \"\";position: absolute;border-left: 1px solid gray;box-sizing: border-box;top: 0;bottom: 0;left: 50%;z-index: 0;}#sk-container-id-22 div.sk-serial {display: flex;flex-direction: column;align-items: center;background-color: white;padding-right: 0.2em;padding-left: 0.2em;position: relative;}#sk-container-id-22 div.sk-item {position: relative;z-index: 1;}#sk-container-id-22 div.sk-parallel {display: flex;align-items: stretch;justify-content: center;background-color: white;position: relative;}#sk-container-id-22 div.sk-item::before, #sk-container-id-22 div.sk-parallel-item::before {content: \"\";position: absolute;border-left: 1px solid gray;box-sizing: border-box;top: 0;bottom: 0;left: 50%;z-index: -1;}#sk-container-id-22 div.sk-parallel-item {display: flex;flex-direction: column;z-index: 1;position: relative;background-color: white;}#sk-container-id-22 div.sk-parallel-item:first-child::after {align-self: flex-end;width: 50%;}#sk-container-id-22 div.sk-parallel-item:last-child::after {align-self: flex-start;width: 50%;}#sk-container-id-22 div.sk-parallel-item:only-child::after {width: 0;}#sk-container-id-22 div.sk-dashed-wrapped {border: 1px dashed gray;margin: 0 0.4em 0.5em 0.4em;box-sizing: border-box;padding-bottom: 0.4em;background-color: white;}#sk-container-id-22 div.sk-label label {font-family: monospace;font-weight: bold;display: inline-block;line-height: 1.2em;}#sk-container-id-22 div.sk-label-container {text-align: center;}#sk-container-id-22 div.sk-container {/* jupyter's `normalize.less` sets `[hidden] { display: none; }` but bootstrap.min.css set `[hidden] { display: none !important; }` so we also need the `!important` here to be able to override the default hidden behavior on the sphinx rendered scikit-learn.org. See: https://github.com/scikit-learn/scikit-learn/issues/21755 */display: inline-block !important;position: relative;}#sk-container-id-22 div.sk-text-repr-fallback {display: none;}</style><div id=\"sk-container-id-22\" class=\"sk-top-container\"><div class=\"sk-text-repr-fallback\"><pre>GridSearchCV(cv=KFold(n_splits=4, random_state=42, shuffle=True), error_score=0,\n",
       "             estimator=AdaBoostClassifier(), n_jobs=-1,\n",
       "             param_grid={&#x27;learning_rate&#x27;: [0.01, 0.1, 1],\n",
       "                         &#x27;n_estimators&#x27;: [50, 100, 200]},\n",
       "             scoring=&#x27;accuracy&#x27;)</pre><b>In a Jupyter environment, please rerun this cell to show the HTML representation or trust the notebook. <br />On GitHub, the HTML representation is unable to render, please try loading this page with nbviewer.org.</b></div><div class=\"sk-container\" hidden><div class=\"sk-item sk-dashed-wrapped\"><div class=\"sk-label-container\"><div class=\"sk-label sk-toggleable\"><input class=\"sk-toggleable__control sk-hidden--visually\" id=\"sk-estimator-id-64\" type=\"checkbox\" ><label for=\"sk-estimator-id-64\" class=\"sk-toggleable__label sk-toggleable__label-arrow\">GridSearchCV</label><div class=\"sk-toggleable__content\"><pre>GridSearchCV(cv=KFold(n_splits=4, random_state=42, shuffle=True), error_score=0,\n",
       "             estimator=AdaBoostClassifier(), n_jobs=-1,\n",
       "             param_grid={&#x27;learning_rate&#x27;: [0.01, 0.1, 1],\n",
       "                         &#x27;n_estimators&#x27;: [50, 100, 200]},\n",
       "             scoring=&#x27;accuracy&#x27;)</pre></div></div></div><div class=\"sk-parallel\"><div class=\"sk-parallel-item\"><div class=\"sk-item\"><div class=\"sk-label-container\"><div class=\"sk-label sk-toggleable\"><input class=\"sk-toggleable__control sk-hidden--visually\" id=\"sk-estimator-id-65\" type=\"checkbox\" ><label for=\"sk-estimator-id-65\" class=\"sk-toggleable__label sk-toggleable__label-arrow\">estimator: AdaBoostClassifier</label><div class=\"sk-toggleable__content\"><pre>AdaBoostClassifier()</pre></div></div></div><div class=\"sk-serial\"><div class=\"sk-item\"><div class=\"sk-estimator sk-toggleable\"><input class=\"sk-toggleable__control sk-hidden--visually\" id=\"sk-estimator-id-66\" type=\"checkbox\" ><label for=\"sk-estimator-id-66\" class=\"sk-toggleable__label sk-toggleable__label-arrow\">AdaBoostClassifier</label><div class=\"sk-toggleable__content\"><pre>AdaBoostClassifier()</pre></div></div></div></div></div></div></div></div></div></div>"
      ],
      "text/plain": [
       "GridSearchCV(cv=KFold(n_splits=4, random_state=42, shuffle=True), error_score=0,\n",
       "             estimator=AdaBoostClassifier(), n_jobs=-1,\n",
       "             param_grid={'learning_rate': [0.01, 0.1, 1],\n",
       "                         'n_estimators': [50, 100, 200]},\n",
       "             scoring='accuracy')"
      ]
     },
     "execution_count": 239,
     "metadata": {},
     "output_type": "execute_result"
    }
   ],
   "source": [
    "# Define the hyperparameters and their possible values\n",
    "param_grid = {\n",
    "    'n_estimators': [50, 100, 200], # Number of weak learners to train iteratively\n",
    "    'learning_rate': [0.01, 0.1, 1], # Contribution of each classifier\n",
    "}\n",
    "cv=KFold(n_splits=4, random_state=random_state, shuffle=True)\n",
    "# Use GridSearchCV to search for the best hyperparameters\n",
    "grid_search = GridSearchCV(adaboost, param_grid, cv=cv, scoring='accuracy', n_jobs=-1,error_score=0)\n",
    "grid_search.fit(X_train, y_train)\n",
    "\n"
   ]
  },
  {
   "cell_type": "code",
   "execution_count": 240,
   "metadata": {},
   "outputs": [
    {
     "name": "stdout",
     "output_type": "stream",
     "text": [
      "Best parameters found: {'learning_rate': 0.01, 'n_estimators': 50}\n",
      "Best cross-validation accuracy: 86.25% \n",
      "Accuracy with Grid search: 80.00%\n"
     ]
    }
   ],
   "source": [
    "# Print the best parameters and their corresponding accuracy\n",
    "print(\"Best parameters found:\", grid_search.best_params_)\n",
    "print(\"Best cross-validation accuracy: %.2f%% \" % (grid_search.best_score_*100.0))\n",
    "\n",
    "# Evaluate on the test set\n",
    "y_pred_OrgGr = grid_search.predict(X_test)\n",
    "print(\"Accuracy with Grid search: %.2f%%\" % (grid_search.score(X_test, y_test) * 100.0))\n"
   ]
  },
  {
   "cell_type": "code",
   "execution_count": 241,
   "metadata": {},
   "outputs": [],
   "source": [
    "# Perform cross-validation\n",
    "n_splits = 35\n",
    "cv_scores = cross_val_score(grid_search, data, target, cv=n_splits, scoring='accuracy')\n"
   ]
  },
  {
   "cell_type": "code",
   "execution_count": 242,
   "metadata": {},
   "outputs": [
    {
     "name": "stdout",
     "output_type": "stream",
     "text": [
      "Average Accuracy over 35-fold cross-validation: 82.86%\n"
     ]
    }
   ],
   "source": [
    "# Calculate the average of the cross-validation scores\n",
    "average_accuracy = np.mean(cv_scores)\n",
    "print(f\"Average Accuracy over %d-fold cross-validation: %.2f%%\" % (n_splits, average_accuracy*100))\n",
    "# 82.86%"
   ]
  },
  {
   "cell_type": "code",
   "execution_count": 243,
   "metadata": {},
   "outputs": [
    {
     "data": {
      "text/plain": [
       "{'adaboost orgein data': {'best_score': 84.52380952380952,\n",
       "  'best_params': {'algorithm': 'SAMME.R',\n",
       "   'base_estimator': 'deprecated',\n",
       "   'estimator': None,\n",
       "   'learning_rate': 1.0,\n",
       "   'n_estimators': 50,\n",
       "   'random_state': None}},\n",
       " 'AdaBoost grid_search Org ': {'best_score': 82.85714285714286,\n",
       "  'best_params': {'learning_rate': 0.01, 'n_estimators': 50}}}"
      ]
     },
     "execution_count": 243,
     "metadata": {},
     "output_type": "execute_result"
    }
   ],
   "source": [
    "best_model(\"AdaBoost grid_search Org \",average_accuracy*100,grid_search.best_params_)"
   ]
  },
  {
   "cell_type": "code",
   "execution_count": 244,
   "metadata": {},
   "outputs": [
    {
     "name": "stdout",
     "output_type": "stream",
     "text": [
      "              precision    recall  f1-score   support\n",
      "\n",
      "   diagnosed       0.79      0.83      0.81        18\n",
      "     healthy       0.81      0.76      0.79        17\n",
      "\n",
      "    accuracy                           0.80        35\n",
      "   macro avg       0.80      0.80      0.80        35\n",
      "weighted avg       0.80      0.80      0.80        35\n",
      "\n"
     ]
    },
    {
     "data": {
      "image/png": "[encoded data removed]",
      "text/plain": [
       "<Figure size 640x480 with 2 Axes>"
      ]
     },
     "metadata": {},
     "output_type": "display_data"
    }
   ],
   "source": [
    "\n",
    "print(classification_report(y_test, y_pred_OrgGr))\n",
    "cm=confusion_matrix(y_test, y_pred_OrgGr)\n",
    "disp = ConfusionMatrixDisplay(confusion_matrix=cm, display_labels=adaboost.classes_)\n",
    "disp.plot(cmap=plt.cm.Blues)\n",
    "plt.show()"
   ]
  },
  {
   "cell_type": "markdown",
   "metadata": {},
   "source": [
    "# Oversampled"
   ]
  },
  {
   "cell_type": "code",
   "execution_count": 245,
   "metadata": {},
   "outputs": [
    {
     "name": "stdout",
     "output_type": "stream",
     "text": [
      "Original dataset distribution Counter({'healthy': 65, 'diagnosed': 65})\n",
      "Accuracy of SMOTE data: 82.05%\n"
     ]
    }
   ],
   "source": [
    "sm = SMOTE(random_state = 2)\n",
    "X_train_res, y_train_res = sm.fit_resample(data, target)\n",
    "X_train, X_test, y_train, y_test = train_test_split(X_train_res, y_train_res, test_size = 0.3,random_state=random_state)\n",
    "print('Original dataset distribution %s' % Counter(y_train_res))\n",
    "adaboost_smote = AdaBoostClassifier()\n",
    "adaboost_smote.fit(X_train, y_train)\n",
    "y_pred_SMOTE= adaboost_smote.predict(X_test)\n",
    "print(\"Accuracy of SMOTE data: %.2f%%\" % (adaboost_smote.score(X_test, y_test) * 100.0))\n",
    "# 82.05%"
   ]
  },
  {
   "cell_type": "code",
   "execution_count": 246,
   "metadata": {},
   "outputs": [
    {
     "data": {
      "text/plain": [
       "{'algorithm': 'SAMME.R',\n",
       " 'base_estimator': 'deprecated',\n",
       " 'estimator': None,\n",
       " 'learning_rate': 1.0,\n",
       " 'n_estimators': 50,\n",
       " 'random_state': None}"
      ]
     },
     "execution_count": 246,
     "metadata": {},
     "output_type": "execute_result"
    }
   ],
   "source": [
    "adaboost_smote.get_params()"
   ]
  },
  {
   "cell_type": "code",
   "execution_count": 247,
   "metadata": {},
   "outputs": [
    {
     "name": "stdout",
     "output_type": "stream",
     "text": [
      "Average Accuracy over 35-fold cross-validation: 86.67%\n"
     ]
    }
   ],
   "source": [
    "# Perform cross-validation\n",
    "n_splits = 35\n",
    "cv_scores = cross_val_score(adaboost_smote, X_train_res, y_train_res, cv=n_splits, scoring='accuracy')\n",
    "\n",
    "# Calculate the average of the cross-validation scores\n",
    "average_accuracy = np.mean(cv_scores)\n",
    "print(f\"Average Accuracy over %d-fold cross-validation: %.2f%%\" % (n_splits, average_accuracy*100))"
   ]
  },
  {
   "cell_type": "code",
   "execution_count": 248,
   "metadata": {},
   "outputs": [
    {
     "data": {
      "text/plain": [
       "{'adaboost orgein data': {'best_score': 84.52380952380952,\n",
       "  'best_params': {'algorithm': 'SAMME.R',\n",
       "   'base_estimator': 'deprecated',\n",
       "   'estimator': None,\n",
       "   'learning_rate': 1.0,\n",
       "   'n_estimators': 50,\n",
       "   'random_state': None}},\n",
       " 'AdaBoost grid_search Org ': {'best_score': 82.85714285714286,\n",
       "  'best_params': {'learning_rate': 0.01, 'n_estimators': 50}},\n",
       " 'AdaBoost Oversampel ': {'best_score': 86.66666666666666,\n",
       "  'best_params': {'algorithm': 'SAMME.R',\n",
       "   'base_estimator': 'deprecated',\n",
       "   'estimator': None,\n",
       "   'learning_rate': 1.0,\n",
       "   'n_estimators': 50,\n",
       "   'random_state': None}}}"
      ]
     },
     "execution_count": 248,
     "metadata": {},
     "output_type": "execute_result"
    }
   ],
   "source": [
    "best_model(\"AdaBoost Oversampel \",average_accuracy*100,adaboost_smote.get_params())"
   ]
  },
  {
   "cell_type": "code",
   "execution_count": 249,
   "metadata": {},
   "outputs": [
    {
     "name": "stdout",
     "output_type": "stream",
     "text": [
      "              precision    recall  f1-score   support\n",
      "\n",
      "   diagnosed       0.88      0.74      0.80        19\n",
      "     healthy       0.78      0.90      0.84        20\n",
      "\n",
      "    accuracy                           0.82        39\n",
      "   macro avg       0.83      0.82      0.82        39\n",
      "weighted avg       0.83      0.82      0.82        39\n",
      "\n"
     ]
    },
    {
     "data": {
      "image/png": "[encoded data removed]",
      "text/plain": [
       "<Figure size 640x480 with 2 Axes>"
      ]
     },
     "metadata": {},
     "output_type": "display_data"
    }
   ],
   "source": [
    "\n",
    "print(classification_report(y_test, y_pred_SMOTE))\n",
    "cm=confusion_matrix(y_test, y_pred_SMOTE)\n",
    "disp = ConfusionMatrixDisplay(confusion_matrix=cm, display_labels=adaboost.classes_)\n",
    "disp.plot(cmap=plt.cm.Blues)\n",
    "plt.show()"
   ]
  },
  {
   "cell_type": "code",
   "execution_count": 250,
   "metadata": {},
   "outputs": [
    {
     "data": {
      "text/html": [
       "<style>#sk-container-id-23 {color: black;background-color: white;}#sk-container-id-23 pre{padding: 0;}#sk-container-id-23 div.sk-toggleable {background-color: white;}#sk-container-id-23 label.sk-toggleable__label {cursor: pointer;display: block;width: 100%;margin-bottom: 0;padding: 0.3em;box-sizing: border-box;text-align: center;}#sk-container-id-23 label.sk-toggleable__label-arrow:before {content: \"▸\";float: left;margin-right: 0.25em;color: #696969;}#sk-container-id-23 label.sk-toggleable__label-arrow:hover:before {color: black;}#sk-container-id-23 div.sk-estimator:hover label.sk-toggleable__label-arrow:before {color: black;}#sk-container-id-23 div.sk-toggleable__content {max-height: 0;max-width: 0;overflow: hidden;text-align: left;background-color: #f0f8ff;}#sk-container-id-23 div.sk-toggleable__content pre {margin: 0.2em;color: black;border-radius: 0.25em;background-color: #f0f8ff;}#sk-container-id-23 input.sk-toggleable__control:checked~div.sk-toggleable__content {max-height: 200px;max-width: 100%;overflow: auto;}#sk-container-id-23 input.sk-toggleable__control:checked~label.sk-toggleable__label-arrow:before {content: \"▾\";}#sk-container-id-23 div.sk-estimator input.sk-toggleable__control:checked~label.sk-toggleable__label {background-color: #d4ebff;}#sk-container-id-23 div.sk-label input.sk-toggleable__control:checked~label.sk-toggleable__label {background-color: #d4ebff;}#sk-container-id-23 input.sk-hidden--visually {border: 0;clip: rect(1px 1px 1px 1px);clip: rect(1px, 1px, 1px, 1px);height: 1px;margin: -1px;overflow: hidden;padding: 0;position: absolute;width: 1px;}#sk-container-id-23 div.sk-estimator {font-family: monospace;background-color: #f0f8ff;border: 1px dotted black;border-radius: 0.25em;box-sizing: border-box;margin-bottom: 0.5em;}#sk-container-id-23 div.sk-estimator:hover {background-color: #d4ebff;}#sk-container-id-23 div.sk-parallel-item::after {content: \"\";width: 100%;border-bottom: 1px solid gray;flex-grow: 1;}#sk-container-id-23 div.sk-label:hover label.sk-toggleable__label {background-color: #d4ebff;}#sk-container-id-23 div.sk-serial::before {content: \"\";position: absolute;border-left: 1px solid gray;box-sizing: border-box;top: 0;bottom: 0;left: 50%;z-index: 0;}#sk-container-id-23 div.sk-serial {display: flex;flex-direction: column;align-items: center;background-color: white;padding-right: 0.2em;padding-left: 0.2em;position: relative;}#sk-container-id-23 div.sk-item {position: relative;z-index: 1;}#sk-container-id-23 div.sk-parallel {display: flex;align-items: stretch;justify-content: center;background-color: white;position: relative;}#sk-container-id-23 div.sk-item::before, #sk-container-id-23 div.sk-parallel-item::before {content: \"\";position: absolute;border-left: 1px solid gray;box-sizing: border-box;top: 0;bottom: 0;left: 50%;z-index: -1;}#sk-container-id-23 div.sk-parallel-item {display: flex;flex-direction: column;z-index: 1;position: relative;background-color: white;}#sk-container-id-23 div.sk-parallel-item:first-child::after {align-self: flex-end;width: 50%;}#sk-container-id-23 div.sk-parallel-item:last-child::after {align-self: flex-start;width: 50%;}#sk-container-id-23 div.sk-parallel-item:only-child::after {width: 0;}#sk-container-id-23 div.sk-dashed-wrapped {border: 1px dashed gray;margin: 0 0.4em 0.5em 0.4em;box-sizing: border-box;padding-bottom: 0.4em;background-color: white;}#sk-container-id-23 div.sk-label label {font-family: monospace;font-weight: bold;display: inline-block;line-height: 1.2em;}#sk-container-id-23 div.sk-label-container {text-align: center;}#sk-container-id-23 div.sk-container {/* jupyter's `normalize.less` sets `[hidden] { display: none; }` but bootstrap.min.css set `[hidden] { display: none !important; }` so we also need the `!important` here to be able to override the default hidden behavior on the sphinx rendered scikit-learn.org. See: https://github.com/scikit-learn/scikit-learn/issues/21755 */display: inline-block !important;position: relative;}#sk-container-id-23 div.sk-text-repr-fallback {display: none;}</style><div id=\"sk-container-id-23\" class=\"sk-top-container\"><div class=\"sk-text-repr-fallback\"><pre>GridSearchCV(cv=KFold(n_splits=4, random_state=42, shuffle=True), error_score=0,\n",
       "             estimator=AdaBoostClassifier(), n_jobs=-1,\n",
       "             param_grid={&#x27;learning_rate&#x27;: [0.001, 0.01, 0.1, 0.5, 1.0],\n",
       "                         &#x27;n_estimators&#x27;: [50, 100, 150, 200]},\n",
       "             scoring=&#x27;accuracy&#x27;)</pre><b>In a Jupyter environment, please rerun this cell to show the HTML representation or trust the notebook. <br />On GitHub, the HTML representation is unable to render, please try loading this page with nbviewer.org.</b></div><div class=\"sk-container\" hidden><div class=\"sk-item sk-dashed-wrapped\"><div class=\"sk-label-container\"><div class=\"sk-label sk-toggleable\"><input class=\"sk-toggleable__control sk-hidden--visually\" id=\"sk-estimator-id-67\" type=\"checkbox\" ><label for=\"sk-estimator-id-67\" class=\"sk-toggleable__label sk-toggleable__label-arrow\">GridSearchCV</label><div class=\"sk-toggleable__content\"><pre>GridSearchCV(cv=KFold(n_splits=4, random_state=42, shuffle=True), error_score=0,\n",
       "             estimator=AdaBoostClassifier(), n_jobs=-1,\n",
       "             param_grid={&#x27;learning_rate&#x27;: [0.001, 0.01, 0.1, 0.5, 1.0],\n",
       "                         &#x27;n_estimators&#x27;: [50, 100, 150, 200]},\n",
       "             scoring=&#x27;accuracy&#x27;)</pre></div></div></div><div class=\"sk-parallel\"><div class=\"sk-parallel-item\"><div class=\"sk-item\"><div class=\"sk-label-container\"><div class=\"sk-label sk-toggleable\"><input class=\"sk-toggleable__control sk-hidden--visually\" id=\"sk-estimator-id-68\" type=\"checkbox\" ><label for=\"sk-estimator-id-68\" class=\"sk-toggleable__label sk-toggleable__label-arrow\">estimator: AdaBoostClassifier</label><div class=\"sk-toggleable__content\"><pre>AdaBoostClassifier()</pre></div></div></div><div class=\"sk-serial\"><div class=\"sk-item\"><div class=\"sk-estimator sk-toggleable\"><input class=\"sk-toggleable__control sk-hidden--visually\" id=\"sk-estimator-id-69\" type=\"checkbox\" ><label for=\"sk-estimator-id-69\" class=\"sk-toggleable__label sk-toggleable__label-arrow\">AdaBoostClassifier</label><div class=\"sk-toggleable__content\"><pre>AdaBoostClassifier()</pre></div></div></div></div></div></div></div></div></div></div>"
      ],
      "text/plain": [
       "GridSearchCV(cv=KFold(n_splits=4, random_state=42, shuffle=True), error_score=0,\n",
       "             estimator=AdaBoostClassifier(), n_jobs=-1,\n",
       "             param_grid={'learning_rate': [0.001, 0.01, 0.1, 0.5, 1.0],\n",
       "                         'n_estimators': [50, 100, 150, 200]},\n",
       "             scoring='accuracy')"
      ]
     },
     "execution_count": 250,
     "metadata": {},
     "output_type": "execute_result"
    }
   ],
   "source": [
    "# Define the hyperparameters and their possible values\n",
    "param_grid = {\n",
    "    'n_estimators': [50, 100, 150, 200],\n",
    "    'learning_rate': [0.001, 0.01, 0.1, 0.5, 1.0]\n",
    "}\n",
    "\n",
    "# Use GridSearchCV to search for the best hyperparameters\n",
    "grid_search = GridSearchCV(adaboost_smote, param_grid, cv=KFold(n_splits=4, random_state=random_state, shuffle=True), scoring='accuracy', n_jobs=-1,error_score=0)\n",
    "grid_search.fit(X_train, y_train)"
   ]
  },
  {
   "cell_type": "code",
   "execution_count": 251,
   "metadata": {},
   "outputs": [
    {
     "name": "stdout",
     "output_type": "stream",
     "text": [
      "Best parameters found: {'learning_rate': 0.001, 'n_estimators': 50}\n",
      "Best cross-validation accuracy: 84.68% \n",
      "Accuracy of SMOTE data with Grid search: 87.18%\n"
     ]
    }
   ],
   "source": [
    "# Print the best parameters and their corresponding accuracy\n",
    "print(\"Best parameters found:\", grid_search.best_params_)\n",
    "print(\"Best cross-validation accuracy: %.2f%% \" % (grid_search.best_score_*100.0))\n",
    "\n",
    "# Evaluate on the test set\n",
    "y_pred_SMOTEGr = grid_search.predict(X_test)\n",
    "print(\"Accuracy of SMOTE data with Grid search: %.2f%%\" % (grid_search.score(X_test, y_test) * 100.0))"
   ]
  },
  {
   "cell_type": "code",
   "execution_count": 252,
   "metadata": {},
   "outputs": [],
   "source": [
    "# Perform cross-validation\n",
    "n_splits = 35\n",
    "cv_scores = cross_val_score(grid_search, X_train_res, y_train_res, cv=n_splits, scoring='accuracy')"
   ]
  },
  {
   "cell_type": "code",
   "execution_count": 253,
   "metadata": {},
   "outputs": [
    {
     "name": "stdout",
     "output_type": "stream",
     "text": [
      "Average Accuracy over 35-fold cross-validation: 88.10%\n"
     ]
    }
   ],
   "source": [
    "# Calculate the average of the cross-validation scores\n",
    "average_accuracy = np.mean(cv_scores)\n",
    "print(f\"Average Accuracy over %d-fold cross-validation: %.2f%%\" % (n_splits, average_accuracy*100))"
   ]
  },
  {
   "cell_type": "code",
   "execution_count": 254,
   "metadata": {},
   "outputs": [
    {
     "data": {
      "text/plain": [
       "{'adaboost orgein data': {'best_score': 84.52380952380952,\n",
       "  'best_params': {'algorithm': 'SAMME.R',\n",
       "   'base_estimator': 'deprecated',\n",
       "   'estimator': None,\n",
       "   'learning_rate': 1.0,\n",
       "   'n_estimators': 50,\n",
       "   'random_state': None}},\n",
       " 'AdaBoost grid_search Org ': {'best_score': 82.85714285714286,\n",
       "  'best_params': {'learning_rate': 0.01, 'n_estimators': 50}},\n",
       " 'AdaBoost Oversampel ': {'best_score': 86.66666666666666,\n",
       "  'best_params': {'algorithm': 'SAMME.R',\n",
       "   'base_estimator': 'deprecated',\n",
       "   'estimator': None,\n",
       "   'learning_rate': 1.0,\n",
       "   'n_estimators': 50,\n",
       "   'random_state': None}},\n",
       " 'AdaBoost Grid search Oversampel ': {'best_score': 88.09523809523809,\n",
       "  'best_params': {'learning_rate': 0.001, 'n_estimators': 50}}}"
      ]
     },
     "execution_count": 254,
     "metadata": {},
     "output_type": "execute_result"
    }
   ],
   "source": [
    "best_model(\"AdaBoost Grid search Oversampel \",average_accuracy*100,grid_search.best_params_)"
   ]
  },
  {
   "cell_type": "code",
   "execution_count": 255,
   "metadata": {},
   "outputs": [
    {
     "name": "stdout",
     "output_type": "stream",
     "text": [
      "              precision    recall  f1-score   support\n",
      "\n",
      "   diagnosed       0.79      1.00      0.88        19\n",
      "     healthy       1.00      0.75      0.86        20\n",
      "\n",
      "    accuracy                           0.87        39\n",
      "   macro avg       0.90      0.88      0.87        39\n",
      "weighted avg       0.90      0.87      0.87        39\n",
      "\n"
     ]
    },
    {
     "data": {
      "image/png": "[encoded data removed]",
      "text/plain": [
       "<Figure size 640x480 with 2 Axes>"
      ]
     },
     "metadata": {},
     "output_type": "display_data"
    }
   ],
   "source": [
    "print(classification_report(y_test, y_pred_SMOTEGr))\n",
    "cm=confusion_matrix(y_test, y_pred_SMOTEGr)\n",
    "disp = ConfusionMatrixDisplay(confusion_matrix=cm, display_labels=adaboost.classes_)\n",
    "disp.plot(cmap=plt.cm.Blues)\n",
    "plt.show()"
   ]
  },
  {
   "cell_type": "markdown",
   "metadata": {},
   "source": [
    "# Undersampling"
   ]
  },
  {
   "cell_type": "code",
   "execution_count": 256,
   "metadata": {},
   "outputs": [
    {
     "name": "stdout",
     "output_type": "stream",
     "text": [
      "Original dataset distribution Counter({'diagnosed': 50, 'healthy': 50})\n",
      "Accuracy of SMOTE data: 66.67%\n"
     ]
    }
   ],
   "source": [
    "rus = RandomUnderSampler(random_state=42)\n",
    "X_res, y_res = rus.fit_resample(data, target)\n",
    "print('Original dataset distribution %s' % Counter(y_res))\n",
    "X_train, X_test, y_train, y_test = train_test_split(X_res, y_res, test_size = 0.3,random_state=random_state)\n",
    "\n",
    "adaboost_underSampler = AdaBoostClassifier()\n",
    "adaboost_underSampler.fit(X_train, y_train)\n",
    "y_pred_underSampler= adaboost_underSampler.predict(X_test)\n",
    "print(\"Accuracy of SMOTE data: %.2f%%\" % (adaboost_underSampler.score(X_test, y_test) * 100.0))\n"
   ]
  },
  {
   "cell_type": "code",
   "execution_count": 257,
   "metadata": {},
   "outputs": [
    {
     "name": "stdout",
     "output_type": "stream",
     "text": [
      "Average Accuracy over 35-fold cross-validation: 81.90%\n"
     ]
    }
   ],
   "source": [
    "# Perform cross-validation\n",
    "n_splits = 35\n",
    "cv_scores = cross_val_score(adaboost_underSampler, X_res, y_res, cv=n_splits, scoring='accuracy')\n",
    "\n",
    "# Calculate the average of the cross-validation scores\n",
    "average_accuracy = np.mean(cv_scores)\n",
    "print(f\"Average Accuracy over %d-fold cross-validation: %.2f%%\" % (n_splits, average_accuracy*100))"
   ]
  },
  {
   "cell_type": "code",
   "execution_count": 258,
   "metadata": {},
   "outputs": [
    {
     "data": {
      "text/plain": [
       "{'adaboost orgein data': {'best_score': 84.52380952380952,\n",
       "  'best_params': {'algorithm': 'SAMME.R',\n",
       "   'base_estimator': 'deprecated',\n",
       "   'estimator': None,\n",
       "   'learning_rate': 1.0,\n",
       "   'n_estimators': 50,\n",
       "   'random_state': None}},\n",
       " 'AdaBoost grid_search Org ': {'best_score': 82.85714285714286,\n",
       "  'best_params': {'learning_rate': 0.01, 'n_estimators': 50}},\n",
       " 'AdaBoost Oversampel ': {'best_score': 86.66666666666666,\n",
       "  'best_params': {'algorithm': 'SAMME.R',\n",
       "   'base_estimator': 'deprecated',\n",
       "   'estimator': None,\n",
       "   'learning_rate': 1.0,\n",
       "   'n_estimators': 50,\n",
       "   'random_state': None}},\n",
       " 'AdaBoost Grid search Oversampel ': {'best_score': 88.09523809523809,\n",
       "  'best_params': {'learning_rate': 0.001, 'n_estimators': 50}},\n",
       " 'AdaBoost undersampel ': {'best_score': 81.9047619047619,\n",
       "  'best_params': {'algorithm': 'SAMME.R',\n",
       "   'base_estimator': 'deprecated',\n",
       "   'estimator': None,\n",
       "   'learning_rate': 1.0,\n",
       "   'n_estimators': 50,\n",
       "   'random_state': None}}}"
      ]
     },
     "execution_count": 258,
     "metadata": {},
     "output_type": "execute_result"
    }
   ],
   "source": [
    "best_model(\"AdaBoost undersampel \",average_accuracy*100,adaboost_underSampler.get_params())"
   ]
  },
  {
   "cell_type": "code",
   "execution_count": 259,
   "metadata": {},
   "outputs": [
    {
     "name": "stdout",
     "output_type": "stream",
     "text": [
      "              precision    recall  f1-score   support\n",
      "\n",
      "   diagnosed       0.77      0.59      0.67        17\n",
      "     healthy       0.59      0.77      0.67        13\n",
      "\n",
      "    accuracy                           0.67        30\n",
      "   macro avg       0.68      0.68      0.67        30\n",
      "weighted avg       0.69      0.67      0.67        30\n",
      "\n"
     ]
    },
    {
     "data": {
      "image/png": "[encoded data removed]",
      "text/plain": [
       "<Figure size 640x480 with 2 Axes>"
      ]
     },
     "metadata": {},
     "output_type": "display_data"
    }
   ],
   "source": [
    "print(classification_report(y_test, y_pred_underSampler))\n",
    "cm=confusion_matrix(y_test, y_pred_underSampler)\n",
    "disp = ConfusionMatrixDisplay(confusion_matrix=cm, display_labels=adaboost.classes_)\n",
    "disp.plot(cmap=plt.cm.Blues)\n",
    "plt.show()"
   ]
  },
  {
   "cell_type": "code",
   "execution_count": 260,
   "metadata": {},
   "outputs": [
    {
     "data": {
      "text/html": [
       "<style>#sk-container-id-24 {color: black;background-color: white;}#sk-container-id-24 pre{padding: 0;}#sk-container-id-24 div.sk-toggleable {background-color: white;}#sk-container-id-24 label.sk-toggleable__label {cursor: pointer;display: block;width: 100%;margin-bottom: 0;padding: 0.3em;box-sizing: border-box;text-align: center;}#sk-container-id-24 label.sk-toggleable__label-arrow:before {content: \"▸\";float: left;margin-right: 0.25em;color: #696969;}#sk-container-id-24 label.sk-toggleable__label-arrow:hover:before {color: black;}#sk-container-id-24 div.sk-estimator:hover label.sk-toggleable__label-arrow:before {color: black;}#sk-container-id-24 div.sk-toggleable__content {max-height: 0;max-width: 0;overflow: hidden;text-align: left;background-color: #f0f8ff;}#sk-container-id-24 div.sk-toggleable__content pre {margin: 0.2em;color: black;border-radius: 0.25em;background-color: #f0f8ff;}#sk-container-id-24 input.sk-toggleable__control:checked~div.sk-toggleable__content {max-height: 200px;max-width: 100%;overflow: auto;}#sk-container-id-24 input.sk-toggleable__control:checked~label.sk-toggleable__label-arrow:before {content: \"▾\";}#sk-container-id-24 div.sk-estimator input.sk-toggleable__control:checked~label.sk-toggleable__label {background-color: #d4ebff;}#sk-container-id-24 div.sk-label input.sk-toggleable__control:checked~label.sk-toggleable__label {background-color: #d4ebff;}#sk-container-id-24 input.sk-hidden--visually {border: 0;clip: rect(1px 1px 1px 1px);clip: rect(1px, 1px, 1px, 1px);height: 1px;margin: -1px;overflow: hidden;padding: 0;position: absolute;width: 1px;}#sk-container-id-24 div.sk-estimator {font-family: monospace;background-color: #f0f8ff;border: 1px dotted black;border-radius: 0.25em;box-sizing: border-box;margin-bottom: 0.5em;}#sk-container-id-24 div.sk-estimator:hover {background-color: #d4ebff;}#sk-container-id-24 div.sk-parallel-item::after {content: \"\";width: 100%;border-bottom: 1px solid gray;flex-grow: 1;}#sk-container-id-24 div.sk-label:hover label.sk-toggleable__label {background-color: #d4ebff;}#sk-container-id-24 div.sk-serial::before {content: \"\";position: absolute;border-left: 1px solid gray;box-sizing: border-box;top: 0;bottom: 0;left: 50%;z-index: 0;}#sk-container-id-24 div.sk-serial {display: flex;flex-direction: column;align-items: center;background-color: white;padding-right: 0.2em;padding-left: 0.2em;position: relative;}#sk-container-id-24 div.sk-item {position: relative;z-index: 1;}#sk-container-id-24 div.sk-parallel {display: flex;align-items: stretch;justify-content: center;background-color: white;position: relative;}#sk-container-id-24 div.sk-item::before, #sk-container-id-24 div.sk-parallel-item::before {content: \"\";position: absolute;border-left: 1px solid gray;box-sizing: border-box;top: 0;bottom: 0;left: 50%;z-index: -1;}#sk-container-id-24 div.sk-parallel-item {display: flex;flex-direction: column;z-index: 1;position: relative;background-color: white;}#sk-container-id-24 div.sk-parallel-item:first-child::after {align-self: flex-end;width: 50%;}#sk-container-id-24 div.sk-parallel-item:last-child::after {align-self: flex-start;width: 50%;}#sk-container-id-24 div.sk-parallel-item:only-child::after {width: 0;}#sk-container-id-24 div.sk-dashed-wrapped {border: 1px dashed gray;margin: 0 0.4em 0.5em 0.4em;box-sizing: border-box;padding-bottom: 0.4em;background-color: white;}#sk-container-id-24 div.sk-label label {font-family: monospace;font-weight: bold;display: inline-block;line-height: 1.2em;}#sk-container-id-24 div.sk-label-container {text-align: center;}#sk-container-id-24 div.sk-container {/* jupyter's `normalize.less` sets `[hidden] { display: none; }` but bootstrap.min.css set `[hidden] { display: none !important; }` so we also need the `!important` here to be able to override the default hidden behavior on the sphinx rendered scikit-learn.org. See: https://github.com/scikit-learn/scikit-learn/issues/21755 */display: inline-block !important;position: relative;}#sk-container-id-24 div.sk-text-repr-fallback {display: none;}</style><div id=\"sk-container-id-24\" class=\"sk-top-container\"><div class=\"sk-text-repr-fallback\"><pre>GridSearchCV(cv=KFold(n_splits=4, random_state=42, shuffle=True), error_score=0,\n",
       "             estimator=AdaBoostClassifier(), n_jobs=-1,\n",
       "             param_grid={&#x27;learning_rate&#x27;: [0.01, 0.1, 1],\n",
       "                         &#x27;n_estimators&#x27;: [50, 100, 200]},\n",
       "             scoring=&#x27;accuracy&#x27;)</pre><b>In a Jupyter environment, please rerun this cell to show the HTML representation or trust the notebook. <br />On GitHub, the HTML representation is unable to render, please try loading this page with nbviewer.org.</b></div><div class=\"sk-container\" hidden><div class=\"sk-item sk-dashed-wrapped\"><div class=\"sk-label-container\"><div class=\"sk-label sk-toggleable\"><input class=\"sk-toggleable__control sk-hidden--visually\" id=\"sk-estimator-id-70\" type=\"checkbox\" ><label for=\"sk-estimator-id-70\" class=\"sk-toggleable__label sk-toggleable__label-arrow\">GridSearchCV</label><div class=\"sk-toggleable__content\"><pre>GridSearchCV(cv=KFold(n_splits=4, random_state=42, shuffle=True), error_score=0,\n",
       "             estimator=AdaBoostClassifier(), n_jobs=-1,\n",
       "             param_grid={&#x27;learning_rate&#x27;: [0.01, 0.1, 1],\n",
       "                         &#x27;n_estimators&#x27;: [50, 100, 200]},\n",
       "             scoring=&#x27;accuracy&#x27;)</pre></div></div></div><div class=\"sk-parallel\"><div class=\"sk-parallel-item\"><div class=\"sk-item\"><div class=\"sk-label-container\"><div class=\"sk-label sk-toggleable\"><input class=\"sk-toggleable__control sk-hidden--visually\" id=\"sk-estimator-id-71\" type=\"checkbox\" ><label for=\"sk-estimator-id-71\" class=\"sk-toggleable__label sk-toggleable__label-arrow\">estimator: AdaBoostClassifier</label><div class=\"sk-toggleable__content\"><pre>AdaBoostClassifier()</pre></div></div></div><div class=\"sk-serial\"><div class=\"sk-item\"><div class=\"sk-estimator sk-toggleable\"><input class=\"sk-toggleable__control sk-hidden--visually\" id=\"sk-estimator-id-72\" type=\"checkbox\" ><label for=\"sk-estimator-id-72\" class=\"sk-toggleable__label sk-toggleable__label-arrow\">AdaBoostClassifier</label><div class=\"sk-toggleable__content\"><pre>AdaBoostClassifier()</pre></div></div></div></div></div></div></div></div></div></div>"
      ],
      "text/plain": [
       "GridSearchCV(cv=KFold(n_splits=4, random_state=42, shuffle=True), error_score=0,\n",
       "             estimator=AdaBoostClassifier(), n_jobs=-1,\n",
       "             param_grid={'learning_rate': [0.01, 0.1, 1],\n",
       "                         'n_estimators': [50, 100, 200]},\n",
       "             scoring='accuracy')"
      ]
     },
     "execution_count": 260,
     "metadata": {},
     "output_type": "execute_result"
    }
   ],
   "source": [
    "# Define the hyperparameters and their possible values\n",
    "param_grid = {\n",
    "    'n_estimators': [50, 100, 200], # Number of weak learners to train iteratively\n",
    "    'learning_rate': [0.01, 0.1, 1], # Contribution of each classifier\n",
    "}\n",
    "\n",
    "# Use GridSearchCV to search for the best hyperparameters\n",
    "grid_search = GridSearchCV(adaboost_underSampler, param_grid, cv=KFold(n_splits=4, random_state=random_state, shuffle=True), scoring='accuracy', n_jobs=-1,error_score=0)\n",
    "grid_search.fit(X_train, y_train)\n"
   ]
  },
  {
   "cell_type": "code",
   "execution_count": 261,
   "metadata": {},
   "outputs": [
    {
     "name": "stdout",
     "output_type": "stream",
     "text": [
      "Best parameters found: {'learning_rate': 0.1, 'n_estimators': 50}\n",
      "Best cross-validation accuracy: 80.07% \n",
      "Accuracy of under sampleing data with Grid search: 73.33%\n"
     ]
    }
   ],
   "source": [
    "\n",
    "# Print the best parameters and their corresponding accuracy\n",
    "print(\"Best parameters found:\", grid_search.best_params_)\n",
    "print(\"Best cross-validation accuracy: %.2f%% \" % (grid_search.best_score_*100.0))\n",
    "\n",
    "# Evaluate on the test set\n",
    "y_pred_underSamplerGr = grid_search.predict(X_test)\n",
    "print(\"Accuracy of under sampleing data with Grid search: %.2f%%\" % (grid_search.score(X_test, y_test) * 100.0))\n"
   ]
  },
  {
   "cell_type": "code",
   "execution_count": 262,
   "metadata": {},
   "outputs": [],
   "source": [
    "# Perform cross-validation\n",
    "n_splits = 35\n",
    "cv_scores = cross_val_score(grid_search, X_res, y_res, cv=n_splits, scoring='accuracy')\n"
   ]
  },
  {
   "cell_type": "code",
   "execution_count": 263,
   "metadata": {},
   "outputs": [
    {
     "name": "stdout",
     "output_type": "stream",
     "text": [
      "Average Accuracy over 35-fold cross-validation: 82.38%\n"
     ]
    }
   ],
   "source": [
    "\n",
    "# Calculate the average of the cross-validation scores\n",
    "average_accuracy = np.mean(cv_scores)\n",
    "print(f\"Average Accuracy over %d-fold cross-validation: %.2f%%\" % (n_splits, average_accuracy*100))"
   ]
  },
  {
   "cell_type": "code",
   "execution_count": 264,
   "metadata": {},
   "outputs": [
    {
     "data": {
      "text/plain": [
       "{'adaboost orgein data': {'best_score': 84.52380952380952,\n",
       "  'best_params': {'algorithm': 'SAMME.R',\n",
       "   'base_estimator': 'deprecated',\n",
       "   'estimator': None,\n",
       "   'learning_rate': 1.0,\n",
       "   'n_estimators': 50,\n",
       "   'random_state': None}},\n",
       " 'AdaBoost grid_search Org ': {'best_score': 82.85714285714286,\n",
       "  'best_params': {'learning_rate': 0.01, 'n_estimators': 50}},\n",
       " 'AdaBoost Oversampel ': {'best_score': 86.66666666666666,\n",
       "  'best_params': {'algorithm': 'SAMME.R',\n",
       "   'base_estimator': 'deprecated',\n",
       "   'estimator': None,\n",
       "   'learning_rate': 1.0,\n",
       "   'n_estimators': 50,\n",
       "   'random_state': None}},\n",
       " 'AdaBoost Grid search Oversampel ': {'best_score': 88.09523809523809,\n",
       "  'best_params': {'learning_rate': 0.001, 'n_estimators': 50}},\n",
       " 'AdaBoost undersampel ': {'best_score': 81.9047619047619,\n",
       "  'best_params': {'algorithm': 'SAMME.R',\n",
       "   'base_estimator': 'deprecated',\n",
       "   'estimator': None,\n",
       "   'learning_rate': 1.0,\n",
       "   'n_estimators': 50,\n",
       "   'random_state': None}},\n",
       " 'AdaBoost Grid search undersampel ': {'best_score': 82.38095238095237,\n",
       "  'best_params': {'learning_rate': 0.1, 'n_estimators': 50}}}"
      ]
     },
     "execution_count": 264,
     "metadata": {},
     "output_type": "execute_result"
    }
   ],
   "source": [
    "best_model(\"AdaBoost Grid search undersampel \",average_accuracy*100,grid_search.best_params_)"
   ]
  },
  {
   "cell_type": "code",
   "execution_count": 265,
   "metadata": {},
   "outputs": [
    {
     "name": "stdout",
     "output_type": "stream",
     "text": [
      "              precision    recall  f1-score   support\n",
      "\n",
      "   diagnosed       0.85      0.65      0.73        17\n",
      "     healthy       0.65      0.85      0.73        13\n",
      "\n",
      "    accuracy                           0.73        30\n",
      "   macro avg       0.75      0.75      0.73        30\n",
      "weighted avg       0.76      0.73      0.73        30\n",
      "\n"
     ]
    },
    {
     "data": {
      "image/png": "[encoded data removed]",
      "text/plain": [
       "<Figure size 640x480 with 2 Axes>"
      ]
     },
     "metadata": {},
     "output_type": "display_data"
    }
   ],
   "source": [
    "print(classification_report(y_test, y_pred_underSamplerGr))\n",
    "cm=confusion_matrix(y_test, y_pred_underSamplerGr)\n",
    "disp = ConfusionMatrixDisplay(confusion_matrix=cm, display_labels=adaboost.classes_)\n",
    "disp.plot(cmap=plt.cm.Blues)\n",
    "plt.show()"
   ]
  },
  {
   "cell_type": "code",
   "execution_count": 266,
   "metadata": {},
   "outputs": [
    {
     "data": {
      "text/plain": [
       "{'adaboost orgein data': {'best_score': 84.52380952380952,\n",
       "  'best_params': {'algorithm': 'SAMME.R',\n",
       "   'base_estimator': 'deprecated',\n",
       "   'estimator': None,\n",
       "   'learning_rate': 1.0,\n",
       "   'n_estimators': 50,\n",
       "   'random_state': None}},\n",
       " 'AdaBoost grid_search Org ': {'best_score': 82.85714285714286,\n",
       "  'best_params': {'learning_rate': 0.01, 'n_estimators': 50}},\n",
       " 'AdaBoost Oversampel ': {'best_score': 86.66666666666666,\n",
       "  'best_params': {'algorithm': 'SAMME.R',\n",
       "   'base_estimator': 'deprecated',\n",
       "   'estimator': None,\n",
       "   'learning_rate': 1.0,\n",
       "   'n_estimators': 50,\n",
       "   'random_state': None}},\n",
       " 'AdaBoost Grid search Oversampel ': {'best_score': 88.09523809523809,\n",
       "  'best_params': {'learning_rate': 0.001, 'n_estimators': 50}},\n",
       " 'AdaBoost undersampel ': {'best_score': 81.9047619047619,\n",
       "  'best_params': {'algorithm': 'SAMME.R',\n",
       "   'base_estimator': 'deprecated',\n",
       "   'estimator': None,\n",
       "   'learning_rate': 1.0,\n",
       "   'n_estimators': 50,\n",
       "   'random_state': None}},\n",
       " 'AdaBoost Grid search undersampel ': {'best_score': 82.38095238095237,\n",
       "  'best_params': {'learning_rate': 0.1, 'n_estimators': 50}}}"
      ]
     },
     "execution_count": 266,
     "metadata": {},
     "output_type": "execute_result"
    }
   ],
   "source": [
    "best_models"
   ]
  },
  {
   "cell_type": "code",
   "execution_count": 267,
   "metadata": {},
   "outputs": [
    {
     "data": {
      "text/html": [
       "<div>\n",
       "<style scoped>\n",
       "    .dataframe tbody tr th:only-of-type {\n",
       "        vertical-align: middle;\n",
       "    }\n",
       "\n",
       "    .dataframe tbody tr th {\n",
       "        vertical-align: top;\n",
       "    }\n",
       "\n",
       "    .dataframe thead th {\n",
       "        text-align: right;\n",
       "    }\n",
       "</style>\n",
       "<table border=\"1\" class=\"dataframe\">\n",
       "  <thead>\n",
       "    <tr style=\"text-align: right;\">\n",
       "      <th></th>\n",
       "      <th>best_score</th>\n",
       "      <th>best_params</th>\n",
       "    </tr>\n",
       "  </thead>\n",
       "  <tbody>\n",
       "    <tr>\n",
       "      <th>AdaBoost Grid search Oversampel</th>\n",
       "      <td>88.095238</td>\n",
       "      <td>{'learning_rate': 0.001, 'n_estimators': 50}</td>\n",
       "    </tr>\n",
       "    <tr>\n",
       "      <th>AdaBoost Oversampel</th>\n",
       "      <td>86.666667</td>\n",
       "      <td>{'algorithm': 'SAMME.R', 'base_estimator': 'de...</td>\n",
       "    </tr>\n",
       "    <tr>\n",
       "      <th>adaboost orgein data</th>\n",
       "      <td>84.523810</td>\n",
       "      <td>{'algorithm': 'SAMME.R', 'base_estimator': 'de...</td>\n",
       "    </tr>\n",
       "    <tr>\n",
       "      <th>AdaBoost grid_search Org</th>\n",
       "      <td>82.857143</td>\n",
       "      <td>{'learning_rate': 0.01, 'n_estimators': 50}</td>\n",
       "    </tr>\n",
       "    <tr>\n",
       "      <th>AdaBoost Grid search undersampel</th>\n",
       "      <td>82.380952</td>\n",
       "      <td>{'learning_rate': 0.1, 'n_estimators': 50}</td>\n",
       "    </tr>\n",
       "    <tr>\n",
       "      <th>AdaBoost undersampel</th>\n",
       "      <td>81.904762</td>\n",
       "      <td>{'algorithm': 'SAMME.R', 'base_estimator': 'de...</td>\n",
       "    </tr>\n",
       "  </tbody>\n",
       "</table>\n",
       "</div>"
      ],
      "text/plain": [
       "                                   best_score  \\\n",
       "AdaBoost Grid search Oversampel     88.095238   \n",
       "AdaBoost Oversampel                 86.666667   \n",
       "adaboost orgein data                84.523810   \n",
       "AdaBoost grid_search Org            82.857143   \n",
       "AdaBoost Grid search undersampel    82.380952   \n",
       "AdaBoost undersampel                81.904762   \n",
       "\n",
       "                                                                         best_params  \n",
       "AdaBoost Grid search Oversampel         {'learning_rate': 0.001, 'n_estimators': 50}  \n",
       "AdaBoost Oversampel                {'algorithm': 'SAMME.R', 'base_estimator': 'de...  \n",
       "adaboost orgein data               {'algorithm': 'SAMME.R', 'base_estimator': 'de...  \n",
       "AdaBoost grid_search Org                 {'learning_rate': 0.01, 'n_estimators': 50}  \n",
       "AdaBoost Grid search undersampel          {'learning_rate': 0.1, 'n_estimators': 50}  \n",
       "AdaBoost undersampel               {'algorithm': 'SAMME.R', 'base_estimator': 'de...  "
      ]
     },
     "execution_count": 267,
     "metadata": {},
     "output_type": "execute_result"
    }
   ],
   "source": [
    "import pandas as pd\n",
    "\n",
    "df = pd.DataFrame.from_dict(best_models, orient='index')\n",
    "df= df.sort_values(by=['best_score'],ascending=False)\n",
    "df"
   ]
  },
  {
   "cell_type": "code",
   "execution_count": null,
   "metadata": {},
   "outputs": [],
   "source": []
  }
 ],
 "metadata": {
  "kernelspec": {
   "display_name": "base",
   "language": "python",
   "name": "python3"
  },
  "language_info": {
   "codemirror_mode": {
    "name": "ipython",
    "version": 3
   },
   "file_extension": ".py",
   "mimetype": "text/x-python",
   "name": "python",
   "nbconvert_exporter": "python",
   "pygments_lexer": "ipython3",
   "version": "3.11.5"
  }
 },
 "nbformat": 4,
 "nbformat_minor": 2
}
