{
  "cells": [
    {
      "cell_type": "code",
      "execution_count": 10,
      "metadata": {
        "id": "qJ-M2LZTT1ji"
      },
      "outputs": [],
      "source": [
        "import pandas as pd\n",
        "import numpy as np\n",
        "from sklearn.model_selection import train_test_split\n",
        "from sklearn.tree import DecisionTreeClassifier\n",
        "from sklearn.metrics import accuracy_score, classification_report, confusion_matrix\n"
      ]
    },
    {
      "cell_type": "code",
      "execution_count": 11,
      "metadata": {
        "id": "atNNtnwMT7Pw"
      },
      "outputs": [],
      "source": [
        "file_path = 'Data/colon-dataset-processed.csv'\n",
        "data = pd.read_csv(file_path)\n",
        "data['Class'] = data['Class']"
      ]
    },
    {
      "cell_type": "code",
      "execution_count": 12,
      "metadata": {
        "id": "MboIWNCiT8wS"
      },
      "outputs": [],
      "source": [
        "\n",
        "X = data.drop('Class', axis=1)\n",
        "y = data['Class']\n",
        "X_train, X_test, y_train, y_test = train_test_split(X, y, test_size=0.2, random_state=42)"
      ]
    },
    {
      "cell_type": "code",
      "execution_count": 13,
      "metadata": {
        "id": "lThmmU83T_cM"
      },
      "outputs": [],
      "source": [
        "\n",
        "tree_clf = DecisionTreeClassifier(random_state=42)\n",
        "path = tree_clf.cost_complexity_pruning_path(X_train, y_train)\n",
        "ccp_alphas, impurities = path.ccp_alphas, path.impurities"
      ]
    },
    {
      "cell_type": "code",
      "execution_count": 14,
      "metadata": {
        "id": "4GXSDPgXUA1n"
      },
      "outputs": [],
      "source": [
        "trees = []\n",
        "for ccp_alpha in ccp_alphas:\n",
        "    tree_clf = DecisionTreeClassifier(random_state=42, ccp_alpha=ccp_alpha)\n",
        "    tree_clf.fit(X_train, y_train)\n",
        "    trees.append(tree_clf)"
      ]
    },
    {
      "cell_type": "code",
      "execution_count": 15,
      "metadata": {
        "id": "opbv7C6aUCia"
      },
      "outputs": [],
      "source": [
        "\n",
        "tree_scores = [accuracy_score(y_test, tree.predict(X_test)) for tree in trees]\n",
        "max_accuracy_idx = np.argmax(tree_scores)\n",
        "best_alpha = ccp_alphas[max_accuracy_idx]\n",
        "best_tree = trees[max_accuracy_idx]\n",
        "best_accuracy = tree_scores[max_accuracy_idx]"
      ]
    },
    {
      "cell_type": "code",
      "execution_count": 16,
      "metadata": {
        "colab": {
          "base_uri": "https://localhost:8080/"
        },
        "id": "yip-OUfkUDUL",
        "outputId": "9cff75d9-d0c1-456a-e8d9-5aab20791c91"
      },
      "outputs": [
        {
          "name": "stdout",
          "output_type": "stream",
          "text": [
            "Best ccp_alpha: 0.007019927536231884\n",
            "Test Accuracy: 0.8695652173913043\n",
            "Confusion Matrix:\n",
            "[[11  1]\n",
            " [ 2  9]]\n",
            "Classification Report:\n",
            "              precision    recall  f1-score   support\n",
            "\n",
            "   diagnosed       0.85      0.92      0.88        12\n",
            "     healthy       0.90      0.82      0.86        11\n",
            "\n",
            "    accuracy                           0.87        23\n",
            "   macro avg       0.87      0.87      0.87        23\n",
            "weighted avg       0.87      0.87      0.87        23\n",
            "\n"
          ]
        }
      ],
      "source": [
        "\n",
        "best_tree.fit(X_train, y_train)\n",
        "y_pred_best_tree = best_tree.predict(X_test)\n",
        "best_accuracy = accuracy_score(y_test, y_pred_best_tree)\n",
        "conf_matrix_best_tree = confusion_matrix(y_test, y_pred_best_tree)\n",
        "class_report_best_tree = classification_report(y_test, y_pred_best_tree)\n",
        "print(f\"Best ccp_alpha: {best_alpha}\")\n",
        "print(f\"Test Accuracy: {best_accuracy}\")\n",
        "print(\"Confusion Matrix:\")\n",
        "print(conf_matrix_best_tree)\n",
        "print(\"Classification Report:\")\n",
        "print(class_report_best_tree)"
      ]
    },
    {
      "cell_type": "code",
      "execution_count": 17,
      "metadata": {},
      "outputs": [],
      "source": [
        "#save model\n",
        "import pickle\n",
        "with open('Models/DT_colon.pkl', 'wb') as f:\n",
        "    pickle.dump(best_tree, f)"
      ]
    }
  ],
  "metadata": {
    "colab": {
      "provenance": []
    },
    "kernelspec": {
      "display_name": "Python 3",
      "name": "python3"
    },
    "language_info": {
      "codemirror_mode": {
        "name": "ipython",
        "version": 3
      },
      "file_extension": ".py",
      "mimetype": "text/x-python",
      "name": "python",
      "nbconvert_exporter": "python",
      "pygments_lexer": "ipython3",
      "version": "3.11.5"
    }
  },
  "nbformat": 4,
  "nbformat_minor": 0
}
