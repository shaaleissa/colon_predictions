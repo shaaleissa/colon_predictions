{
  "cells": [
    {
      "cell_type": "code",
      "execution_count": 1,
      "metadata": {
        "colab": {
          "base_uri": "https://localhost:8080/"
        },
        "id": "1X2GopH0bBi1",
        "outputId": "cc292100-62a3-4f5e-f668-fc4c1b65c634"
      },
      "outputs": [
        {
          "name": "stdout",
          "output_type": "stream",
          "text": [
            "Found existing installation: lightgbm 4.1.0\n",
            "Uninstalling lightgbm-4.1.0:\n",
            "  Would remove:\n",
            "    /opt/homebrew/anaconda3/lib/python3.10/site-packages/lightgbm-4.1.0.dist-info/*\n",
            "    /opt/homebrew/anaconda3/lib/python3.10/site-packages/lightgbm/*\n",
            "Proceed (Y/n)? ^C\n",
            "\u001b[31mERROR: Operation cancelled by user\u001b[0m\u001b[31m\n",
            "\u001b[0mNote: you may need to restart the kernel to use updated packages.\n"
          ]
        }
      ],
      "source": [
        "%pip uninstall lightgbm"
      ]
    },
    {
      "cell_type": "code",
      "execution_count": null,
      "metadata": {
        "id": "Bgh69i5Hcjd7"
      },
      "outputs": [],
      "source": [
        "Training The Model on LightGBM : no optimization used"
      ]
    },
    {
      "cell_type": "code",
      "execution_count": 2,
      "metadata": {
        "colab": {
          "base_uri": "https://localhost:8080/"
        },
        "id": "y1sgWgpqjkC-",
        "outputId": "bca8ecf9-f0aa-4a41-8b5e-a3d905caf683"
      },
      "outputs": [
        {
          "ename": "",
          "evalue": "",
          "output_type": "error",
          "traceback": [
            "\u001b[1;31mThe Kernel crashed while executing code in the the current cell or a previous cell. Please review the code in the cell(s) to identify a possible cause of the failure. Click <a href='https://aka.ms/vscodeJupyterKernelCrash'>here</a> for more info. View Jupyter <a href='command:jupyter.viewOutput'>log</a> for further details."
          ]
        }
      ],
      "source": [
        "import lightgbm as lgb\n",
        "from sklearn.model_selection import train_test_split\n",
        "from sklearn.metrics import accuracy_score\n",
        "import pandas as pd\n",
        "\n",
        "lgbModel=lgb\n",
        "\n",
        "# Load your data\n",
        "data = pd.read_csv('Data/colon-dataset-processed.csv')\n",
        "X = data.drop('Class', axis=1).values\n",
        "y = data['Class'].map({'healthy': 0, 'diagnosed': 1}).values\n",
        "\n",
        "# Split your data into training and testing sets\n",
        "X_train, X_test, y_train, y_test = train_test_split(X, y, test_size=0.2, random_state=42)\n",
        "\n",
        "# Create a LightGBM dataset\n",
        "train_data = lgbModel.Dataset(X_train, label=y_train)\n",
        "test_data = lgbModel.Dataset(X_test, label=y_test, reference=train_data)\n",
        "\n",
        "# Set up the model parameters\n",
        "params = {\n",
        "    'objective': 'binary',\n",
        "    'metric': 'binary_error',\n",
        "    'boosting_type': 'gbdt',\n",
        "    'num_leaves': 31,\n",
        "    'learning_rate': 0.05,\n",
        "    'feature_fraction': 0.9\n",
        "}\n",
        "\n",
        "# Create a callback for logging the evaluation metric\n",
        "log_evaluation_callback = lgbModel.log_evaluation(period=10)\n",
        "\n",
        "# Train the model\n",
        "num_round = 100\n",
        "bst = lgbModel.train(params, train_data, num_round, valid_sets=[test_data], callbacks=[log_evaluation_callback])\n",
        "\n",
        "# Make predictions\n",
        "y_pred = bst.predict(X_test, num_iteration=bst.best_iteration)\n",
        "y_pred_binary = [1 if p >= 0.5 else 0 for p in y_pred]\n",
        "\n",
        "# Evaluate the model\n",
        "accuracy = accuracy_score(y_test, y_pred_binary)\n",
        "print(f'Accuracy: {accuracy * 100:.2f}%')\n",
        "\n"
      ]
    },
    {
      "cell_type": "markdown",
      "metadata": {
        "id": "-jtYPlx7d2B-"
      },
      "source": [
        "optimization using Gridsearch"
      ]
    },
    {
      "cell_type": "code",
      "execution_count": null,
      "metadata": {
        "colab": {
          "base_uri": "https://localhost:8080/"
        },
        "id": "0iqXzF2k6KfG",
        "outputId": "42022cdd-642a-4732-bc11-c7215517389b"
      },
      "outputs": [],
      "source": [
        "import lightgbm as lgb\n",
        "from sklearn.model_selection import GridSearchCV, StratifiedKFold\n",
        "from sklearn.metrics import accuracy_score, confusion_matrix, classification_report\n",
        "import pandas as pd\n",
        "\n",
        "# Load your data\n",
        "data = pd.read_csv('/content/colon-dataset-processed copy.csv')\n",
        "X = data.drop('Class', axis=1).values\n",
        "y = data['Class'].map({'healthy': 0, 'diagnosed': 1}).values\n",
        "\n",
        "# Define the model\n",
        "clf = lgbModel.LGBMClassifier(\n",
        "    objective='binary',\n",
        "    metric='binary_error',\n",
        "    boosting_type='gbdt'\n",
        ")\n",
        "\n",
        "# Define the parameter grid\n",
        "param_grid = {\n",
        "    'num_leaves': [7, 15, 31, 63],\n",
        "    'learning_rate': [0.01, 0.05, 0.1],\n",
        "    'feature_fraction': [0.6, 0.8, 1.0],\n",
        "    'n_estimators': [50, 100, 200]\n",
        "}\n",
        "\n",
        "# Choose a cross-validation strategy\n",
        "n_splits = 5\n",
        "kf = StratifiedKFold(n_splits=n_splits, shuffle=True, random_state=42)\n",
        "\n",
        "# Set up the GridSearchCV object\n",
        "grid_search = GridSearchCV(estimator=clf, param_grid=param_grid,\n",
        "                           cv=kf, scoring='accuracy', verbose=1)\n",
        "\n",
        "# Perform grid search\n",
        "grid_search.fit(X, y)\n",
        "\n",
        "# Best parameters and best score\n",
        "print(f'Best parameters found: {grid_search.best_params_}')\n",
        "print(f'Best cross-validation accuracy: {grid_search.best_score_:.2f}')\n",
        "\n",
        "# Evaluate the best model on the full dataset\n",
        "best_clf = grid_search.best_estimator_\n",
        "y_pred = best_clf.predict(X)\n",
        "print('\\nOverall Accuracy:', accuracy_score(y, y_pred))\n",
        "print('Overall Confusion Matrix:')\n",
        "print(confusion_matrix(y, y_pred))\n",
        "print('\\nClassification Report:')\n",
        "print(classification_report(y, y_pred))\n"
      ]
    },
    {
      "cell_type": "markdown",
      "metadata": {
        "id": "NeRLCv0xcC1K"
      },
      "source": [
        "using 5 split startified K fold cross Validation : Highest accuracy"
      ]
    },
    {
      "cell_type": "code",
      "execution_count": null,
      "metadata": {
        "colab": {
          "base_uri": "https://localhost:8080/"
        },
        "id": "Yv4oBK0X6FVj",
        "outputId": "0fac8dc0-b81c-49dc-da16-f703456ed3a5"
      },
      "outputs": [],
      "source": [
        "import lightgbm as lgb\n",
        "from sklearn.model_selection import StratifiedKFold\n",
        "from sklearn.metrics import accuracy_score, confusion_matrix, classification_report\n",
        "import pandas as pd\n",
        "import numpy as np\n",
        "\n",
        "# Load your data\n",
        "data = pd.read_csv('/content/colon-dataset-processed copy.csv')\n",
        "X = data.drop('Class', axis=1).values\n",
        "y = data['Class'].map({'healthy': 0, 'diagnosed': 1}).values\n",
        "\n",
        "# Define the LightGBM parameters\n",
        "params = {\n",
        "    'objective': 'binary',\n",
        "    'metric': 'binary_error',\n",
        "    'boosting_type': 'gbdt',\n",
        "    'num_leaves': 31,\n",
        "    'learning_rate': 0.05,\n",
        "    'feature_fraction': 0.9\n",
        "}\n",
        "\n",
        "# Choose a cross-validation strategy\n",
        "n_splits = 5\n",
        "kf = StratifiedKFold(n_splits=n_splits, shuffle=True, random_state=42)\n",
        "\n",
        "# Arrays to store scores and predictions\n",
        "cv_scores = []\n",
        "confusion_matrices = []\n",
        "\n",
        "# Perform cross-validation\n",
        "for train_index, test_index in kf.split(X, y):\n",
        "    X_train, X_test = X[train_index], X[test_index]\n",
        "    y_train, y_test = y[train_index], y[test_index]\n",
        "\n",
        "    # Create a LightGBM dataset\n",
        "    train_data = lgbModel.Dataset(X_train, label=y_train)\n",
        "\n",
        "    # Train the model\n",
        "    bst = lgbModel.train(params, train_data, num_boost_round=100)\n",
        "\n",
        "    # Make predictions\n",
        "    y_pred = bst.predict(X_test)\n",
        "    y_pred_binary = [1 if p >= 0.5 else 0 for p in y_pred]\n",
        "\n",
        "    # Evaluate the model\n",
        "    accuracy = accuracy_score(y_test, y_pred_binary)\n",
        "    cv_scores.append(accuracy)\n",
        "\n",
        "    # Confusion Matrix\n",
        "    conf_mat = confusion_matrix(y_test, y_pred_binary)\n",
        "    confusion_matrices.append(conf_mat)\n",
        "\n",
        "# Output the mean accuracy across all folds\n",
        "print(f'CV Accuracy: {np.mean(cv_scores):.2f} ± {np.std(cv_scores):.2f}')\n",
        "\n",
        "# Calculate and print the overall confusion matrix\n",
        "overall_confusion_matrix = np.sum(confusion_matrices, axis=0)\n",
        "print('Overall Confusion Matrix:')\n",
        "print(overall_confusion_matrix)\n",
        "\n",
        "# Print classification report for the last fold\n",
        "print('\\nClassification Report for the last fold:')\n",
        "print(classification_report(y_test, y_pred_binary))\n"
      ]
    },
    {
      "cell_type": "code",
      "execution_count": null,
      "metadata": {},
      "outputs": [],
      "source": []
    },
    {
      "cell_type": "code",
      "execution_count": null,
      "metadata": {},
      "outputs": [],
      "source": []
    },
    {
      "cell_type": "code",
      "execution_count": null,
      "metadata": {},
      "outputs": [],
      "source": []
    }
  ],
  "metadata": {
    "colab": {
      "provenance": []
    },
    "kernelspec": {
      "display_name": "Python 3",
      "name": "python3"
    },
    "language_info": {
      "codemirror_mode": {
        "name": "ipython",
        "version": 3
      },
      "file_extension": ".py",
      "mimetype": "text/x-python",
      "name": "python",
      "nbconvert_exporter": "python",
      "pygments_lexer": "ipython3",
      "version": "3.10.9"
    }
  },
  "nbformat": 4,
  "nbformat_minor": 0
}
