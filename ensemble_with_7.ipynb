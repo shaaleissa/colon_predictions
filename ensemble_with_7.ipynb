{
 "cells": [
  {
   "cell_type": "code",
   "execution_count": 7,
   "metadata": {},
   "outputs": [],
   "source": [
    "import os\n",
    "import pickle\n",
    "import dill\n",
    "\n",
    "\n",
    "with open('Models/AdaBoost_model.pkl', 'rb') as file:\n",
    "    AdaBoost_model = pickle.load(file)\n",
    "with open('Models/HGB_model.pkl', 'rb') as file:\n",
    "    HGB_model = pickle.load(file)\n",
    "with open('Models/ET_model.pkl', 'rb') as file:\n",
    "    ExtraTrees_model = pickle.load(file)\n",
    "with open('Models/RF_undersample.pkl', 'rb') as file:\n",
    "    RandomForest_model = pickle.load(file)\n",
    "with open('Models/SVM_Oversample_model.pkl', 'rb') as file:\n",
    "    SVM_model = pickle.load(file)\n",
    "with open('Models/LR_Oversampled_model.pkl', 'rb') as file:\n",
    "    LogisticRegression_model = pickle.load(file)\n",
    "with open('Models/DT_colon.pkl', 'rb') as file:\n",
    "    DT_model = pickle.load(file)\n",
    "\n"
   ]
  },
  {
   "cell_type": "code",
   "execution_count": 8,
   "metadata": {},
   "outputs": [],
   "source": [
    "import pandas as pd\n",
    "\n",
    "data=pd.read_csv('Data/colon-dataset-processed.csv')\n",
    "\n",
    "#split the data into X and y\n",
    "X=data.drop('Class',axis=1)\n",
    "y=data['Class']\n",
    "\n",
    "#split the data into train and test\n",
    "from sklearn.model_selection import train_test_split\n",
    "X_train,X_test,y_train,y_test=train_test_split(X,y,test_size=0.2,random_state = 42)"
   ]
  },
  {
   "cell_type": "code",
   "execution_count": 9,
   "metadata": {},
   "outputs": [
    {
     "name": "stdout",
     "output_type": "stream",
     "text": [
      "AdaBoost\n",
      "0.8695652173913043\n",
      "HGB\n",
      "0.8695652173913043\n",
      "ExtraTrees\n",
      "0.8695652173913043\n",
      "RandomForest\n",
      "0.9565217391304348\n",
      "SVM\n",
      "0.9130434782608695\n",
      "LogisticRegression\n",
      "0.8695652173913043\n",
      "DecisionTree\n",
      "0.8695652173913043\n"
     ]
    }
   ],
   "source": [
    "#evaluate the models\n",
    "from sklearn.metrics import classification_report,confusion_matrix,accuracy_score\n",
    "\n",
    "#AdaBoost\n",
    "AdaBoost_pred=AdaBoost_model.predict(X_test)\n",
    "print('AdaBoost')\n",
    "print(accuracy_score(y_test,AdaBoost_pred))\n",
    "\n",
    "\n",
    "#HGB\n",
    "HGB_pred=HGB_model.predict(X_test)\n",
    "print('HGB')\n",
    "print(accuracy_score(y_test,HGB_pred))\n",
    "\n",
    "#ExtraTrees\n",
    "ExtraTrees_pred=ExtraTrees_model.predict(X_test)\n",
    "print('ExtraTrees')\n",
    "print(accuracy_score(y_test,ExtraTrees_pred))\n",
    "\n",
    "#RandomForest\n",
    "RandomForest_pred=RandomForest_model.predict(X_test)\n",
    "print('RandomForest')\n",
    "print(accuracy_score(y_test,RandomForest_pred))\n",
    "\n",
    "#SVM\n",
    "SVM_pred=SVM_model.predict(X_test)\n",
    "print('SVM')\n",
    "print(accuracy_score(y_test,SVM_pred))\n",
    "\n",
    "\n",
    "#LogisticRegression\n",
    "LogisticRegression_pred=LogisticRegression_model.predict(X_test)\n",
    "print('LogisticRegression')\n",
    "print(accuracy_score(y_test,LogisticRegression_pred))\n",
    "\n",
    "#DecisionTree\n",
    "DT_pred=DT_model.predict(X_test)\n",
    "print('DecisionTree')\n",
    "print(accuracy_score(y_test,DT_pred))\n",
    "\n"
   ]
  },
  {
   "cell_type": "markdown",
   "metadata": {},
   "source": [
    "<h1>Stacking</h1>"
   ]
  },
  {
   "cell_type": "code",
   "execution_count": 14,
   "metadata": {},
   "outputs": [
    {
     "name": "stderr",
     "output_type": "stream",
     "text": [
      "/opt/homebrew/lib/python3.11/site-packages/sklearn/linear_model/_logistic.py:460: ConvergenceWarning: lbfgs failed to converge (status=1):\n",
      "STOP: TOTAL NO. of ITERATIONS REACHED LIMIT.\n",
      "\n",
      "Increase the number of iterations (max_iter) or scale the data as shown in:\n",
      "    https://scikit-learn.org/stable/modules/preprocessing.html\n",
      "Please also refer to the documentation for alternative solver options:\n",
      "    https://scikit-learn.org/stable/modules/linear_model.html#logistic-regression\n",
      "  n_iter_i = _check_optimize_result(\n",
      "/opt/homebrew/lib/python3.11/site-packages/sklearn/linear_model/_logistic.py:460: ConvergenceWarning: lbfgs failed to converge (status=1):\n",
      "STOP: TOTAL NO. of ITERATIONS REACHED LIMIT.\n",
      "\n",
      "Increase the number of iterations (max_iter) or scale the data as shown in:\n",
      "    https://scikit-learn.org/stable/modules/preprocessing.html\n",
      "Please also refer to the documentation for alternative solver options:\n",
      "    https://scikit-learn.org/stable/modules/linear_model.html#logistic-regression\n",
      "  n_iter_i = _check_optimize_result(\n"
     ]
    },
    {
     "data": {
      "text/plain": [
       "0.8695652173913043"
      ]
     },
     "execution_count": 14,
     "metadata": {},
     "output_type": "execute_result"
    }
   ],
   "source": [
    "from sklearn.metrics import accuracy_score\n",
    "from sklearn.ensemble import RandomForestClassifier, StackingClassifier\n",
    "from sklearn.linear_model import LogisticRegression\n",
    "\n",
    "meta_model = RandomForestClassifier(n_estimators=100, random_state=42)\n",
    "\n",
    "stack_models=[\n",
    "    ('SVM', SVM_model),\n",
    "    ('RF', RandomForest_model),\n",
    "    ('ET', ExtraTrees_model),\n",
    "    ('HGB', HGB_model),\n",
    "    ('AdaBoost', AdaBoost_model),\n",
    "    ('LR', LogisticRegression_model),\n",
    "    ('DT', DT_model)\n",
    "]\n",
    "\n",
    "stacking_model = StackingClassifier(estimators=stack_models, final_estimator=meta_model)\n",
    "\n",
    "stacking_model.fit(X_train, y_train)\n",
    "\n",
    "predictions = stacking_model.predict(X_test)\n",
    "\n",
    "accuracy = accuracy_score(y_test, predictions)\n",
    "accuracy"
   ]
  }
 ],
 "metadata": {
  "kernelspec": {
   "display_name": "Python 3",
   "language": "python",
   "name": "python3"
  },
  "language_info": {
   "codemirror_mode": {
    "name": "ipython",
    "version": 3
   },
   "file_extension": ".py",
   "mimetype": "text/x-python",
   "name": "python",
   "nbconvert_exporter": "python",
   "pygments_lexer": "ipython3",
   "version": "3.11.5"
  }
 },
 "nbformat": 4,
 "nbformat_minor": 2
}
