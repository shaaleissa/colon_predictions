{
 "cells": [
  {
   "cell_type": "code",
   "execution_count": 1,
   "metadata": {},
   "outputs": [],
   "source": [
    "import os\n",
    "import pickle\n",
    "\n",
    "\n",
    "with open('Models/AdaBoost_model.pkl', 'rb') as file:\n",
    "    AdaBoost_model = pickle.load(file)\n",
    "with open('Models/HGB_model.pkl', 'rb') as file:\n",
    "    HGB_model = pickle.load(file)\n",
    "with open('Models/ExtraTrees_model.pkl', 'rb') as file:\n",
    "    ExtraTrees_model = pickle.load(file)\n",
    "with open('Models/RF_undersample.pkl', 'rb') as file:\n",
    "    RandomForest_model = pickle.load(file)\n",
    "with open('Models/SVM_Oversample_model.pkl', 'rb') as file:\n",
    "    SVM_model = pickle.load(file)\n",
    "with open('Models/LR_Oversampled_model.pkl', 'rb') as file:\n",
    "    LogisticRegression_model = pickle.load(file)\n",
    "\n"
   ]
  },
  {
   "cell_type": "code",
   "execution_count": 2,
   "metadata": {},
   "outputs": [],
   "source": [
    "import pandas as pd\n",
    "\n",
    "data=pd.read_csv('Data/colon-dataset-processed.csv')\n",
    "\n",
    "#split the data into X and y\n",
    "X=data.drop('Class',axis=1)\n",
    "y=data['Class']\n",
    "\n",
    "#split the data into train and test\n",
    "from sklearn.model_selection import train_test_split\n",
    "X_train,X_test,y_train,y_test=train_test_split(X,y,test_size=0.30,random_state = 42)"
   ]
  },
  {
   "cell_type": "code",
   "execution_count": 10,
   "metadata": {},
   "outputs": [
    {
     "name": "stdout",
     "output_type": "stream",
     "text": [
      "<class 'numpy.ndarray'> <class 'numpy.ndarray'> <class 'numpy.ndarray'> <class 'numpy.ndarray'> <class 'numpy.ndarray'>\n"
     ]
    },
    {
     "ename": "TypeError",
     "evalue": "can only concatenate str (not \"int\") to str",
     "output_type": "error",
     "traceback": [
      "\u001b[0;31m---------------------------------------------------------------------------\u001b[0m",
      "\u001b[0;31mTypeError\u001b[0m                                 Traceback (most recent call last)",
      "\u001b[1;32m/Users/shahadaleissa/Downloads/Code/ensemble_with_7.ipynb Cell 3\u001b[0m line \u001b[0;36m9\n\u001b[1;32m      <a href='vscode-notebook-cell:/Users/shahadaleissa/Downloads/Code/ensemble_with_7.ipynb#W1sZmlsZQ%3D%3D?line=4'>5</a>\u001b[0m pred5\u001b[39m=\u001b[39mSVM_model\u001b[39m.\u001b[39mpredict(X_test)\n\u001b[1;32m      <a href='vscode-notebook-cell:/Users/shahadaleissa/Downloads/Code/ensemble_with_7.ipynb#W1sZmlsZQ%3D%3D?line=6'>7</a>\u001b[0m \u001b[39mprint\u001b[39m(\u001b[39mtype\u001b[39m(pred1),\u001b[39mtype\u001b[39m(pred2),\u001b[39mtype\u001b[39m(pred3),\u001b[39mtype\u001b[39m(pred4),\u001b[39mtype\u001b[39m(pred5))\n\u001b[0;32m----> <a href='vscode-notebook-cell:/Users/shahadaleissa/Downloads/Code/ensemble_with_7.ipynb#W1sZmlsZQ%3D%3D?line=8'>9</a>\u001b[0m pred_final\u001b[39m=\u001b[39mpred1\u001b[39m+\u001b[39;49mpred2\u001b[39m+\u001b[39;49mpred3\u001b[39m+\u001b[39mpred4\u001b[39m+\u001b[39mpred5\u001b[39m/\u001b[39m\u001b[39m5.0\u001b[39m\n",
      "\u001b[0;31mTypeError\u001b[0m: can only concatenate str (not \"int\") to str"
     ]
    }
   ],
   "source": [
    "pred1=AdaBoost_model.predict(X_test)\n",
    "pred2=HGB_model.predict(X_test)\n",
    "pred3=ExtraTrees_model.predict(X_test)\n",
    "pred4=RandomForest_model.predict(X_test)\n",
    "pred5=SVM_model.predict(X_test)\n",
    "\n",
    "print(type(pred1),type(pred2),type(pred3),type(pred4),type(pred5))\n",
    "\n",
    "pred_final=pred1+pred2+pred3+pred4+pred5/5.0\n",
    "\n"
   ]
  },
  {
   "cell_type": "code",
   "execution_count": 4,
   "metadata": {},
   "outputs": [
    {
     "data": {
      "text/plain": [
       "0.8571428571428571"
      ]
     },
     "execution_count": 4,
     "metadata": {},
     "output_type": "execute_result"
    }
   ],
   "source": [
    "from sklearn.metrics import accuracy_score\n",
    "accuracy = accuracy_score(y_test, pred_final)\n",
    "accuracy"
   ]
  },
  {
   "cell_type": "code",
   "execution_count": 5,
   "metadata": {},
   "outputs": [
    {
     "data": {
      "text/plain": [
       "array([[15,  3],\n",
       "       [ 2, 15]])"
      ]
     },
     "execution_count": 5,
     "metadata": {},
     "output_type": "execute_result"
    }
   ],
   "source": [
    "#confusion matrix\n",
    "from sklearn.metrics import confusion_matrix\n",
    "cm=confusion_matrix(y_test,ensemble_predictions)\n",
    "cm"
   ]
  },
  {
   "cell_type": "markdown",
   "metadata": {},
   "source": [
    "<h1>Stacking</h1>"
   ]
  },
  {
   "cell_type": "code",
   "execution_count": 6,
   "metadata": {},
   "outputs": [
    {
     "data": {
      "text/plain": [
       "0.8571428571428571"
      ]
     },
     "execution_count": 6,
     "metadata": {},
     "output_type": "execute_result"
    }
   ],
   "source": [
    "from sklearn.ensemble import StackingClassifier\n",
    "from sklearn.linear_model import LogisticRegression\n",
    "\n",
    "meta_model = LogisticRegression()\n",
    "\n",
    "stack_models=[\n",
    "    ('SVM', SVM_model),\n",
    "    ('RF', RandomForest_model),\n",
    "    ('ET', ExtraTrees_model),\n",
    "    ('HGB', HGB_model),\n",
    "    ('AB', AdaBoost_model)\n",
    "]\n",
    "\n",
    "stacking_model = StackingClassifier(estimators=stack_models, final_estimator=meta_model)\n",
    "\n",
    "stacking_model.fit(X_train, y_train)\n",
    "\n",
    "predictions = stacking_model.predict(X_test)\n",
    "\n",
    "accuracy = accuracy_score(y_test, predictions)\n",
    "accuracy"
   ]
  }
 ],
 "metadata": {
  "kernelspec": {
   "display_name": "Python 3",
   "language": "python",
   "name": "python3"
  },
  "language_info": {
   "codemirror_mode": {
    "name": "ipython",
    "version": 3
   },
   "file_extension": ".py",
   "mimetype": "text/x-python",
   "name": "python",
   "nbconvert_exporter": "python",
   "pygments_lexer": "ipython3",
   "version": "3.11.5"
  }
 },
 "nbformat": 4,
 "nbformat_minor": 2
}
